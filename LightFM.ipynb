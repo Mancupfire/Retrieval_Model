{
  "nbformat": 4,
  "nbformat_minor": 0,
  "metadata": {
    "colab": {
      "provenance": []
    },
    "kernelspec": {
      "name": "python3",
      "display_name": "Python 3"
    },
    "language_info": {
      "name": "python"
    }
  },
  "cells": [
    {
      "cell_type": "code",
      "source": [
        "!pip install lightfm"
      ],
      "metadata": {
        "id": "TlBUf21vt74M"
      },
      "execution_count": null,
      "outputs": []
    },
    {
      "cell_type": "code",
      "execution_count": null,
      "metadata": {
        "id": "JEsc21nztYLy"
      },
      "outputs": [],
      "source": [
        "import numpy as np\n",
        "from lightfm import LightFM\n",
        "from scipy.sparse import coo_matrix\n",
        "import pandas as pd"
      ]
    },
    {
      "cell_type": "code",
      "source": [
        "# Extract restaurant set\n",
        "restaurant_set = set()\n",
        "listres = []\n",
        "for kw in train_data['np2rests'].keys():\n",
        "    listres.extend(train_data['np2rests'][kw].keys())\n",
        "restaurant_set = set(listres)\n",
        "\n",
        "# Convert sets to lists for indexing\n",
        "keyword_set = list(keyword_set)\n",
        "restaurant_set = list(restaurant_set)\n",
        "restaurants = len(listres)\n",
        "num_keywords = len(keyword_set)\n",
        "num_restaurants = len(restaurant_set)"
      ],
      "metadata": {
        "id": "weeLtRGptiXB"
      },
      "execution_count": null,
      "outputs": []
    },
    {
      "cell_type": "code",
      "source": [
        "# Extract users\n",
        "train_users, train_users2kw = extract_users(train_data['np2users'])\n",
        "num_users = len(train_users)\n",
        "\n",
        "# Create user-restaurant interaction matrix (sparse)\n",
        "# First, build user-keyword interactions\n",
        "user_keyword_data = []\n",
        "user_keyword_row = []\n",
        "user_keyword_col = []\n",
        "for user_idx, kws in enumerate(train_users2kw):\n",
        "    for kw in kws:\n",
        "        if kw in keyword_set:\n",
        "            kw_idx = keyword_set.index(kw)\n",
        "            user_keyword_data.append(1)\n",
        "            user_keyword_row.append(user_idx)\n",
        "            user_keyword_col.append(kw_idx)\n",
        "user_keyword_matrix = coo_matrix((user_keyword_data, (user_keyword_row, user_keyword_col)), shape=(num_users, num_keywords))"
      ],
      "metadata": {
        "id": "aLERFrpctlG8"
      },
      "execution_count": null,
      "outputs": []
    },
    {
      "cell_type": "code",
      "source": [
        "# Create keyword-restaurant feature matrix\n",
        "keyword_restaurant_data = []\n",
        "keyword_restaurant_row = []\n",
        "keyword_restaurant_col = []\n",
        "for kw in train_data['np2rests'].keys():\n",
        "    kw_idx = keyword_set.index(kw)\n",
        "    for res in train_data['np2rests'][kw].keys():\n",
        "        res_idx = restaurant_set.index(res)\n",
        "        keyword_restaurant_data.append(1)\n",
        "        keyword_restaurant_row.append(kw_idx)\n",
        "        keyword_restaurant_col.append(res_idx)\n",
        "keyword_restaurant_matrix = coo_matrix((keyword_restaurant_data, (keyword_restaurant_row, keyword_restaurant_col)), shape=(num_keywords, num_restaurants))"
      ],
      "metadata": {
        "id": "0N2y18MMtpNj"
      },
      "execution_count": null,
      "outputs": []
    },
    {
      "cell_type": "code",
      "source": [
        "# Incorporate ratings from edinburgh.csv if available\n",
        "ratings_df = pd.read_csv(\"edinburgh.csv\")\n",
        "user_restaurant_data = []\n",
        "user_restaurant_row = []\n",
        "user_restaurant_col = []\n",
        "for _, row in ratings_df.iterrows():\n",
        "    user = row['user_id']\n",
        "    restaurant = row['rest_id']\n",
        "    rating = row['rating']\n",
        "    if user in train_users and restaurant in restaurant_set:\n",
        "        user_idx = train_users.index(user)\n",
        "        res_idx = restaurant_set.index(restaurant)\n",
        "        user_restaurant_data.append(rating)\n",
        "        user_restaurant_row.append(user_idx)\n",
        "        user_restaurant_col.append(res_idx)\n",
        "user_restaurant_matrix = coo_matrix((user_restaurant_data, (user_restaurant_row, user_restaurant_col)), shape=(num_users, num_restaurants))"
      ],
      "metadata": {
        "id": "WS3hOidLtrjw"
      },
      "execution_count": null,
      "outputs": []
    },
    {
      "cell_type": "code",
      "source": [
        "# Initialize LightFM model\n",
        "model = LightFM(loss='warp', no_components=64, learning_rate=0.05)\n",
        "\n",
        "# Fit the model with item features (keywords)\n",
        "model.fit(\n",
        "    interactions=user_restaurant_matrix,\n",
        "    item_features=keyword_restaurant_matrix,\n",
        "    epochs=30,\n",
        "    num_threads=4,\n",
        "    verbose=True\n",
        ")\n",
        "\n",
        "# Generate keyword-restaurant score matrix to replace 'a'\n",
        "# Predict scores for all keyword-restaurant pairs\n",
        "keyword_indices = np.arange(num_keywords)\n",
        "restaurant_indices = np.arange(num_restaurants)\n",
        "keyword_restaurant_scores = np.zeros((num_keywords, num_restaurants))\n",
        "for kw_idx in keyword_indices:\n",
        "    # Create a dummy user with this keyword\n",
        "    user_features = coo_matrix(([1], ([0], [kw_idx])), shape=(1, num_keywords))\n",
        "    scores = model.predict(\n",
        "        user_ids=np.zeros(num_restaurants, dtype=np.int32),\n",
        "        item_ids=restaurant_indices,\n",
        "        item_features=keyword_restaurant_matrix,\n",
        "        user_features=user_features\n",
        "    )\n",
        "    keyword_restaurant_scores[kw_idx] = scores"
      ],
      "metadata": {
        "id": "NIzHVL0Ftu_Y"
      },
      "execution_count": null,
      "outputs": []
    },
    {
      "cell_type": "code",
      "source": [
        "# Normalize scores to [0, 1] for compatibility with original binary matrix\n",
        "a = (keyword_restaurant_scores - keyword_restaurant_scores.min()) / (keyword_restaurant_scores.max() - keyword_restaurant_scores.min() + 1e-10)"
      ],
      "metadata": {
        "id": "5ZMku48mtx1Y"
      },
      "execution_count": null,
      "outputs": []
    }
  ]
}