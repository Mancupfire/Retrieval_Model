{
  "nbformat": 4,
  "nbformat_minor": 0,
  "metadata": {
    "colab": {
      "provenance": []
    },
    "kernelspec": {
      "name": "python3",
      "display_name": "Python 3"
    },
    "language_info": {
      "name": "python"
    }
  },
  "cells": [
    {
      "cell_type": "code",
      "execution_count": null,
      "metadata": {
        "id": "oiaccgpest8W"
      },
      "outputs": [],
      "source": [
        "import numpy as np\n",
        "from sklearn.metrics.pairwise import cosine_similarity\n",
        "\n",
        "# Extract restaurant set\n",
        "restaurant_set = set()\n",
        "listres = []\n",
        "for kw in train_data['np2rests'].keys():\n",
        "    listres.extend(train_data['np2rests'][kw].keys())\n",
        "restaurant_set = set(listres)\n",
        "\n",
        "# Convert sets to lists for indexing\n",
        "keyword_set = list(keyword_set)\n",
        "restaurant_set = list(restaurant_set)\n",
        "restaurants = len(listres)\n",
        "num_keywords = len(keyword_set)\n",
        "num_restaurants = len(restaurant_set)\n",
        "\n",
        "# Create user-keyword matrix\n",
        "train_users, train_users2kw = extract_users(train_data['np2users'])\n",
        "num_users = len(train_users)\n",
        "user_keyword_matrix = np.zeros((num_users, num_keywords))\n",
        "for user_idx, user_kws in enumerate(train_users2kw):\n",
        "    for kw in user_kws:\n",
        "        if kw in keyword_set:\n",
        "            kw_idx = keyword_set.index(kw)\n",
        "            user_keyword_matrix[user_idx][kw_idx] = 1\n",
        "\n",
        "# Create keyword-restaurant matrix\n",
        "keyword_restaurant_matrix = np.zeros((num_keywords, num_restaurants))\n",
        "for kw in train_data['np2rests'].keys():\n",
        "    for res in train_data['np2rests'][kw].keys():\n",
        "        idx_kw = keyword_set.index(kw)\n",
        "        idx_res = restaurant_set.index(res)\n",
        "        keyword_restaurant_matrix[idx_kw][idx_res] = 1\n",
        "\n",
        "# Compute user-restaurant interactions\n",
        "user_restaurant_matrix = np.dot(user_keyword_matrix, keyword_restaurant_matrix)\n",
        "\n",
        "# Compute restaurant-restaurant similarity using cosine similarity\n",
        "restaurant_similarity = cosine_similarity(user_restaurant_matrix.T)\n",
        "\n",
        "# Use similarity scores as the replacement for matrix 'a'\n",
        "a = restaurant_similarity  # Shape: (num_restaurants, num_restaurants)"
      ]
    }
  ]
}