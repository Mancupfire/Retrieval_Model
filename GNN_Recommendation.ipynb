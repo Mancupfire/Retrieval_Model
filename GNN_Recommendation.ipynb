{
  "nbformat": 4,
  "nbformat_minor": 0,
  "metadata": {
    "colab": {
      "provenance": []
    },
    "kernelspec": {
      "name": "python3",
      "display_name": "Python 3"
    },
    "language_info": {
      "name": "python"
    }
  },
  "cells": [
    {
      "cell_type": "code",
      "source": [
        "!pip install torch-geometric torch-sparse torch-scatter"
      ],
      "metadata": {
        "colab": {
          "base_uri": "https://localhost:8080/"
        },
        "id": "TyzQm-M5sys0",
        "outputId": "d4088fa0-8e29-495b-8bcb-fdcccf057775"
      },
      "execution_count": null,
      "outputs": [
        {
          "metadata": {
            "tags": null
          },
          "name": "stdout",
          "output_type": "stream",
          "text": [
            "Collecting torch-geometric\n",
            "  Downloading torch_geometric-2.6.1-py3-none-any.whl.metadata (63 kB)\n",
            "\u001b[2K     \u001b[90m━━━━━━━━━━━━━━━━━━━━━━━━━━━━━━━━━━━━━━━━\u001b[0m \u001b[32m63.1/63.1 kB\u001b[0m \u001b[31m2.6 MB/s\u001b[0m eta \u001b[36m0:00:00\u001b[0m\n",
            "\u001b[?25hCollecting torch-sparse\n",
            "  Downloading torch_sparse-0.6.18.tar.gz (209 kB)\n",
            "\u001b[2K     \u001b[90m━━━━━━━━━━━━━━━━━━━━━━━━━━━━━━━━━━━━━━━\u001b[0m \u001b[32m210.0/210.0 kB\u001b[0m \u001b[31m5.4 MB/s\u001b[0m eta \u001b[36m0:00:00\u001b[0m\n",
            "\u001b[?25h  Preparing metadata (setup.py) ... \u001b[?25l\u001b[?25hdone\n",
            "Collecting torch-scatter\n",
            "  Downloading torch_scatter-2.1.2.tar.gz (108 kB)\n",
            "\u001b[2K     \u001b[90m━━━━━━━━━━━━━━━━━━━━━━━━━━━━━━━━━━━━━━━\u001b[0m \u001b[32m108.0/108.0 kB\u001b[0m \u001b[31m7.5 MB/s\u001b[0m eta \u001b[36m0:00:00\u001b[0m\n",
            "\u001b[?25h  Preparing metadata (setup.py) ... \u001b[?25l\u001b[?25hdone\n",
            "Requirement already satisfied: aiohttp in /usr/local/lib/python3.11/dist-packages (from torch-geometric) (3.11.15)\n",
            "Requirement already satisfied: fsspec in /usr/local/lib/python3.11/dist-packages (from torch-geometric) (2025.3.2)\n",
            "Requirement already satisfied: jinja2 in /usr/local/lib/python3.11/dist-packages (from torch-geometric) (3.1.6)\n",
            "Requirement already satisfied: numpy in /usr/local/lib/python3.11/dist-packages (from torch-geometric) (2.0.2)\n",
            "Requirement already satisfied: psutil>=5.8.0 in /usr/local/lib/python3.11/dist-packages (from torch-geometric) (5.9.5)\n",
            "Requirement already satisfied: pyparsing in /usr/local/lib/python3.11/dist-packages (from torch-geometric) (3.2.3)\n",
            "Requirement already satisfied: requests in /usr/local/lib/python3.11/dist-packages (from torch-geometric) (2.32.3)\n",
            "Requirement already satisfied: tqdm in /usr/local/lib/python3.11/dist-packages (from torch-geometric) (4.67.1)\n",
            "Requirement already satisfied: scipy in /usr/local/lib/python3.11/dist-packages (from torch-sparse) (1.15.3)\n",
            "Requirement already satisfied: aiohappyeyeballs>=2.3.0 in /usr/local/lib/python3.11/dist-packages (from aiohttp->torch-geometric) (2.6.1)\n",
            "Requirement already satisfied: aiosignal>=1.1.2 in /usr/local/lib/python3.11/dist-packages (from aiohttp->torch-geometric) (1.3.2)\n",
            "Requirement already satisfied: attrs>=17.3.0 in /usr/local/lib/python3.11/dist-packages (from aiohttp->torch-geometric) (25.3.0)\n",
            "Requirement already satisfied: frozenlist>=1.1.1 in /usr/local/lib/python3.11/dist-packages (from aiohttp->torch-geometric) (1.6.0)\n",
            "Requirement already satisfied: multidict<7.0,>=4.5 in /usr/local/lib/python3.11/dist-packages (from aiohttp->torch-geometric) (6.4.3)\n",
            "Requirement already satisfied: propcache>=0.2.0 in /usr/local/lib/python3.11/dist-packages (from aiohttp->torch-geometric) (0.3.1)\n",
            "Requirement already satisfied: yarl<2.0,>=1.17.0 in /usr/local/lib/python3.11/dist-packages (from aiohttp->torch-geometric) (1.20.0)\n",
            "Requirement already satisfied: MarkupSafe>=2.0 in /usr/local/lib/python3.11/dist-packages (from jinja2->torch-geometric) (3.0.2)\n",
            "Requirement already satisfied: charset-normalizer<4,>=2 in /usr/local/lib/python3.11/dist-packages (from requests->torch-geometric) (3.4.2)\n",
            "Requirement already satisfied: idna<4,>=2.5 in /usr/local/lib/python3.11/dist-packages (from requests->torch-geometric) (3.10)\n",
            "Requirement already satisfied: urllib3<3,>=1.21.1 in /usr/local/lib/python3.11/dist-packages (from requests->torch-geometric) (2.4.0)\n",
            "Requirement already satisfied: certifi>=2017.4.17 in /usr/local/lib/python3.11/dist-packages (from requests->torch-geometric) (2025.4.26)\n",
            "Downloading torch_geometric-2.6.1-py3-none-any.whl (1.1 MB)\n",
            "\u001b[2K   \u001b[90m━━━━━━━━━━━━━━━━━━━━━━━━━━━━━━━━━━━━━━━━\u001b[0m \u001b[32m1.1/1.1 MB\u001b[0m \u001b[31m16.8 MB/s\u001b[0m eta \u001b[36m0:00:00\u001b[0m\n",
            "\u001b[?25hBuilding wheels for collected packages: torch-sparse, torch-scatter\n"
          ]
        }
      ]
    },
    {
      "cell_type": "code",
      "execution_count": null,
      "metadata": {
        "id": "M8CX30zysDHQ"
      },
      "outputs": [],
      "source": [
        "import numpy as np\n",
        "import torch\n",
        "from torch_geometric.data import HeteroData\n",
        "from torch_geometric.nn import GCNConv\n",
        "import torch.nn.functional as F"
      ]
    },
    {
      "cell_type": "code",
      "source": [
        "# Extract restaurant set\n",
        "restaurant_set = set()\n",
        "listres = []\n",
        "for kw in train_data['np2rests'].keys():\n",
        "    listres.extend(train_data['np2rests'][kw].keys())\n",
        "restaurant_set = set(listres)\n"
      ],
      "metadata": {
        "id": "ALznVQyosT0d"
      },
      "execution_count": null,
      "outputs": []
    },
    {
      "cell_type": "code",
      "source": [
        "# Convert sets to lists for indexing\n",
        "keyword_set = list(keyword_set)\n",
        "restaurant_set = list(restaurant_set)\n",
        "restaurants = len(listres)\n",
        "num_keywords = len(keyword_set)\n",
        "num_restaurants = len(restaurant_set)\n"
      ],
      "metadata": {
        "id": "W3c-zfqgsUeI"
      },
      "execution_count": null,
      "outputs": []
    },
    {
      "cell_type": "code",
      "source": [
        "# Extract users\n",
        "train_users, train_users2kw = extract_users(train_data['np2users'])\n",
        "num_users = len(train_users)"
      ],
      "metadata": {
        "id": "6HcLNWzVsW03"
      },
      "execution_count": null,
      "outputs": []
    },
    {
      "cell_type": "code",
      "source": [
        "# Create heterogeneous graph\n",
        "data = HeteroData()\n",
        "\n",
        "# Node features (simple one-hot encodings for simplicity)\n",
        "data['user'].x = torch.eye(num_users)\n",
        "data['keyword'].x = torch.eye(num_keywords)\n",
        "data['restaurant'].x = torch.eye(num_restaurants)\n",
        "\n",
        "# Edges: user -> keyword\n",
        "edge_index_user_keyword = [[], []]\n",
        "for user_idx, kws in enumerate(train_users2kw):\n",
        "    for kw in kws:\n",
        "        if kw in keyword_set:\n",
        "            kw_idx = keyword_set.index(kw)\n",
        "            edge_index_user_keyword[0].append(user_idx)\n",
        "            edge_index_user_keyword[1].append(kw_idx)\n",
        "data['user', 'interacts', 'keyword'].edge_index = torch.tensor(edge_index_user_keyword, dtype=torch.long)"
      ],
      "metadata": {
        "id": "T8iJ31eDscJp"
      },
      "execution_count": null,
      "outputs": []
    },
    {
      "cell_type": "code",
      "source": [
        "# Edges: keyword -> restaurant\n",
        "edge_index_keyword_restaurant = [[], []]\n",
        "for kw in train_data['np2rests'].keys():\n",
        "    kw_idx = keyword_set.index(kw)\n",
        "    for res in train_data['np2rests'][kw].keys():\n",
        "        res_idx = restaurant_set.index(res)\n",
        "        edge_index_keyword_restaurant[0].append(kw_idx)\n",
        "        edge_index_keyword_restaurant[1].append(res_idx)\n",
        "data['keyword', 'describes', 'restaurant'].edge_index = torch.tensor(edge_index_keyword_restaurant, dtype=torch.long)"
      ],
      "metadata": {
        "id": "kviLM3FDsicU"
      },
      "execution_count": null,
      "outputs": []
    },
    {
      "cell_type": "code",
      "source": [
        "# Define GNN model\n",
        "class GNNRecommender(torch.nn.Module):\n",
        "    def __init__(self, hidden_dim=64):\n",
        "        super(GNNRecommender, self).__init__()\n",
        "        self.conv1 = GCNConv(num_keywords, hidden_dim)\n",
        "        self.conv2 = GCNConv(hidden_dim, hidden_dim)\n",
        "        self.fc = torch.nn.Linear(hidden_dim, num_restaurants)\n",
        "\n",
        "    def forward(self, data):\n",
        "        x, edge_index = data['keyword'].x, data['keyword', 'describes', 'restaurant'].edge_index\n",
        "        x = self.conv1(x, edge_index)\n",
        "        x = F.relu(x)\n",
        "        x = self.conv2(x, edge_index)\n",
        "        x = F.relu(x)\n",
        "        x = self.fc(x)\n",
        "        return x\n",
        "\n",
        "# Initialize and train model\n",
        "model = GNNRecommender()\n",
        "optimizer = torch.optim.Adam(model.parameters(), lr=0.01)\n",
        "model.train()\n",
        "for epoch in range(100):\n",
        "    optimizer.zero_grad()\n",
        "    out = model(data)\n",
        "    # Dummy loss (replace with supervised loss if labels available)\n",
        "    loss = F.mse_loss(out, torch.zeros_like(out))  # Placeholder\n",
        "    loss.backward()\n",
        "    optimizer.step()"
      ],
      "metadata": {
        "id": "4wCJ0RdEsk5Y"
      },
      "execution_count": null,
      "outputs": []
    },
    {
      "cell_type": "code",
      "source": [
        "# Generate restaurant scores\n",
        "model.eval()\n",
        "with torch.no_grad():\n",
        "    keyword_embeddings = model(data)\n",
        "    a = F.softmax(keyword_embeddings, dim=1).numpy()  # Shape: (num_keywords, num_restaurants)"
      ],
      "metadata": {
        "id": "CnAz7_YCslgT"
      },
      "execution_count": null,
      "outputs": []
    }
  ]
}