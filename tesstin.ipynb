{
 "cells": [
  {
   "cell_type": "code",
   "execution_count": 1,
   "metadata": {},
   "outputs": [
    {
     "name": "stdout",
     "output_type": "stream",
     "text": [
      "WARNING:tensorflow:From c:\\Users\\Nhat Minh\\AppData\\Local\\Programs\\Python\\Python312\\Lib\\site-packages\\tf_keras\\src\\losses.py:2976: The name tf.losses.sparse_softmax_cross_entropy is deprecated. Please use tf.compat.v1.losses.sparse_softmax_cross_entropy instead.\n",
      "\n"
     ]
    }
   ],
   "source": [
    "import json\n",
    "import numpy as np\n",
    "import torch\n",
    "import csv\n",
    "from torch_geometric.data import Data\n",
    "from sentence_transformers import SentenceTransformer\n",
    "from sklearn.metrics.pairwise import cosine_similarity\n",
    "import pandas as pd\n",
    "import matplotlib.pyplot as plt"
   ]
  },
  {
   "cell_type": "code",
   "execution_count": 2,
   "metadata": {},
   "outputs": [],
   "source": [
    "model = SentenceTransformer('paraphrase-MiniLM-L6-v2')"
   ]
  },
  {
   "cell_type": "code",
   "execution_count": 3,
   "metadata": {},
   "outputs": [],
   "source": [
    "with open('singapore-keywords_train.json', 'r') as f:\n",
    "    train_data = json.load(f)\n",
    "\n",
    "keywords = list(train_data['np2count'].keys())\n",
    "\n",
    "keyword_set = set(keywords)"
   ]
  },
  {
   "cell_type": "code",
   "execution_count": 4,
   "metadata": {},
   "outputs": [],
   "source": [
    "def extract_users(info):\n",
    "    l_user, user2kw = [], []\n",
    "    for ii in info:\n",
    "        lus = info[ii]\n",
    "        for u in lus:\n",
    "            if u not in l_user:\n",
    "                l_user.append(u)\n",
    "                user2kw.append([])\n",
    "            idx = l_user.index(u)\n",
    "            user2kw[idx].append(ii)\n",
    "    return l_user, user2kw\n"
   ]
  },
  {
   "cell_type": "code",
   "execution_count": 5,
   "metadata": {},
   "outputs": [],
   "source": [
    "train_users, train_users2kw = extract_users(train_data['np2users'])"
   ]
  },
  {
   "cell_type": "code",
   "execution_count": 6,
   "metadata": {},
   "outputs": [],
   "source": [
    "restaurant_set = set()\n",
    "listres = []\n",
    "for kw in train_data['np2rests'].keys():\n",
    "    listres.extend(train_data['np2rests'][kw].keys())\n",
    "restaurant_set = set(listres)\n",
    "\n",
    "keyword_set = list(keyword_set)\n",
    "restaurant_set = list(restaurant_set)\n",
    "restaurants = len(listres)\n",
    "num_keywords = len(keyword_set)\n",
    "num_restaurants = len(restaurant_set)\n",
    "a = np.zeros((num_keywords, num_restaurants))"
   ]
  },
  {
   "cell_type": "code",
   "execution_count": 7,
   "metadata": {},
   "outputs": [],
   "source": [
    "for kw in train_data['np2rests'].keys():\n",
    "    for res in train_data['np2rests'][kw].keys():\n",
    "        idx_kw = keyword_set.index(kw)\n",
    "        idx_res = restaurant_set.index(res)\n",
    "        a[idx_kw][idx_res] = 1"
   ]
  },
  {
   "cell_type": "code",
   "execution_count": 8,
   "metadata": {},
   "outputs": [],
   "source": [
    "keyword_embeddings = model.encode(list(keyword_set))"
   ]
  },
  {
   "cell_type": "code",
   "execution_count": 9,
   "metadata": {},
   "outputs": [],
   "source": [
    "with open('singapore-keywords_test.json', 'r') as r:\n",
    "    test_data = json.load(r)\n",
    "\n",
    "user_keywords = list(test_data['np2reviews'].keys())\n",
    "user_keywords_list = list(user_keywords)"
   ]
  },
  {
   "cell_type": "code",
   "execution_count": 10,
   "metadata": {},
   "outputs": [],
   "source": [
    "test_users, test_users2kw = extract_users(test_data['np2users'])"
   ]
  },
  {
   "cell_type": "code",
   "execution_count": 11,
   "metadata": {},
   "outputs": [],
   "source": [
    "test_keywords = [kw for sublist in test_users2kw for kw in sublist]\n",
    "test_keyword_embeddings = model.encode(test_keywords)\n",
    "\n",
    "similarity_scores = cosine_similarity(test_keyword_embeddings, keyword_embeddings)\n"
   ]
  },
  {
   "cell_type": "code",
   "execution_count": 12,
   "metadata": {},
   "outputs": [],
   "source": [
    "filtered_keywords = []\n",
    "for i, user_kw in enumerate(test_users2kw):\n",
    "    updated_user_kw = []\n",
    "    for kw in user_kw:\n",
    "        if kw not in keyword_set:\n",
    "            test_idx = test_keywords.index(kw)\n",
    "            sim_scores = similarity_scores[test_idx]\n",
    "\n",
    "            best_match_idx = np.argmax(sim_scores)\n",
    "            best_match_keyword = keyword_set[best_match_idx]\n",
    "\n",
    "            updated_user_kw.append(best_match_keyword)\n",
    "        else:\n",
    "            updated_user_kw.append(kw)\n",
    "\n",
    "    filtered_keywords.append(updated_user_kw)\n",
    "\n",
    "test_users2kw = filtered_keywords"
   ]
  },
  {
   "cell_type": "code",
   "execution_count": 13,
   "metadata": {},
   "outputs": [],
   "source": [
    "results = []\n",
    "for kw in test_users2kw:\n",
    "    t = np.zeros((1, len(keyword_set)))\n",
    "    keywords = kw[:10]\n",
    "    for keys in keywords:\n",
    "        if keys in keyword_set:\n",
    "            idx_kw = keyword_set.index(keys)\n",
    "            t[0][idx_kw] = 1\n",
    "    R = np.dot(t, a)\n",
    "    result = np.argsort(R[0])[::-1][:10]\n",
    "    results.append(result)"
   ]
  },
  {
   "cell_type": "code",
   "execution_count": 14,
   "metadata": {},
   "outputs": [
    {
     "data": {
      "text/plain": [
       "array([843, 730,  19, 743, 224, 279, 500, 238, 911, 554], dtype=int64)"
      ]
     },
     "execution_count": 14,
     "metadata": {},
     "output_type": "execute_result"
    }
   ],
   "source": [
    "result"
   ]
  },
  {
   "cell_type": "code",
   "execution_count": 18,
   "metadata": {},
   "outputs": [
    {
     "name": "stdout",
     "output_type": "stream",
     "text": [
      "The result for user 0 is: ['2tGFUtUrE0DhwlX59pbArA', 'fY1IkBnRft1KR0O2tqu7pg', 'MPzZuWpKpeLBa833zzL9IQ', 'izEBByeNB835I5makSbdew', 'fxQKJjAs7sayW3Zg45kE_g', 'SxT7tgTNxkVuk67XEl7p8g', '-vVXB-MBTTa8EUmJhDafQQ', 'J9rMt_V1NX49rU3YUjh_7Q', '69-vLz9AF84FsJmX3cpU9g', 'N8KDtnIu6x0uQ-JogBNeAg']\n",
      "The result for user 1 is: ['n2CnBRKK82cWZ9a2OjS2xQ', 'vVqxGrqt5ALxQjJGnntpKQ', 'VEy3-SnvsKgWfGM_b2irbA', 'Rwzp59f3Ia-v2V8Ku0zZWQ', 'x44o1_Dw4QsQZRtBJgwZaA', '7LFdimtQU3yrgiKyE53klQ', '0W5UWAcjwGuCJOv8rXGMqw', 'lycfBKtcR7keDQQOeMMsoA', 'EJNkmXMDWurCPjOZe_WXAg', 'f6SN9YUSpb9AjS4hnFgyxg']\n",
      "The result for user 2 is: ['_HMiq7vSET4uhNScBdOJnw', 'Rwzp59f3Ia-v2V8Ku0zZWQ', 'ymAw53bQVppVV7T40fNgRw', '_7nMWBmfFvk9S3tKG3Ip_g', 'LFknVw6uTIaL-MY_RqkN7g', 'J9rMt_V1NX49rU3YUjh_7Q', 'BYwoAKKtdSeylSN7QV8oNw', 'I1wArJIYbFl2txUL6unC6A', 'BFT_7kFOCq8FjoINnxycLQ', 'txwpCDw5Utu9WbM0VtYJqg']\n",
      "The result for user 3 is: ['YnnYwfMEeSru_cJ_qKeofw', 'LgCFgXhmPU5pT38BqlVC5Q', 'WlT8rU9YYRjGSG-gX_hnCg', '7LFdimtQU3yrgiKyE53klQ', 'vVqxGrqt5ALxQjJGnntpKQ', 'NbQH02mMYJ4r1RqvG2FDBA', 'JzjxQh-XLNKNsUvrg8qdSQ', '0jULEVd6kG3hY3V7HBoIPA', '5p2AWrPlYJM5hh54HcyA3g', 'hSEGyy0-i1_ZXGIRySbgcg']\n",
      "The result for user 4 is: ['LFknVw6uTIaL-MY_RqkN7g', 'Rwzp59f3Ia-v2V8Ku0zZWQ', 'NbQH02mMYJ4r1RqvG2FDBA', 'fqhahiKsc6gPs5Sx4mf9Vg', 'qs6gA9Y5sRzpXnm_4QaP0Q', 'JHi4LCxdbpXthg98sQiicQ', '7LFdimtQU3yrgiKyE53klQ', 'Yf4RhB-uTRcZc3l-1icBmw', 'Pv0P0vYFIOlMPPfn18Wc7Q', 'cNfJMGK0MDvs13Y020wTgA']\n",
      "The result for user 5 is: ['YnnYwfMEeSru_cJ_qKeofw', 'txwpCDw5Utu9WbM0VtYJqg', '4Xm4LZQjoavYm0Yjs1QgsQ', 'NbQH02mMYJ4r1RqvG2FDBA', '-WRbjOIgvQQ3jlJnvKUBNA', '7LFdimtQU3yrgiKyE53klQ', 'UPRFpMsB4I64GRjUqjRmiw', '3hxwHzQ432UL3rQAWJG5TA', 'bjL1PC2e9dvjBVewmoXYwQ', 'CdAmgWWCabZQoYNNWOKcEw']\n",
      "The result for user 6 is: ['ib_206uhcdzV7lNcCpniXA', '7LFdimtQU3yrgiKyE53klQ', 'f6SN9YUSpb9AjS4hnFgyxg', 'vVqxGrqt5ALxQjJGnntpKQ', 'pKrcWHvmxT2pIAhInIUj3w', 'kA5pZz-koXIlPaDJALDroQ', 'BYwoAKKtdSeylSN7QV8oNw', 'l5lEOq47ne-jWKl67VKwZA', 'ko4q1Oj4iWvYSxoamlcEgw', 'T7ekp7FiffoWDq53hbZDhg']\n",
      "The result for user 7 is: ['_HMiq7vSET4uhNScBdOJnw', 'P-X4kr5pDqXzhPEfa6RsTQ', 'Rwzp59f3Ia-v2V8Ku0zZWQ', 'Rl318hUrGlkPJhMmNNZizQ', 'vVqxGrqt5ALxQjJGnntpKQ', 'ZhJ59SFPifQiTW0gAddfGw', 'ko4q1Oj4iWvYSxoamlcEgw', 'JHi4LCxdbpXthg98sQiicQ', 'Pv0P0vYFIOlMPPfn18Wc7Q', '7LFdimtQU3yrgiKyE53klQ']\n",
      "The result for user 8 is: ['BYwoAKKtdSeylSN7QV8oNw', 'vVqxGrqt5ALxQjJGnntpKQ', 'Ku333V1F3_9MVKUJ72_ZBw', '7LFdimtQU3yrgiKyE53klQ', 'x44o1_Dw4QsQZRtBJgwZaA', '_HMiq7vSET4uhNScBdOJnw', 'EJNkmXMDWurCPjOZe_WXAg', 'tRPHSd0ow1hsqMRxyMePeg', 'OLP_CJcooPYzXPlNGPPTXQ', 'NbQH02mMYJ4r1RqvG2FDBA']\n",
      "The result for user 9 is: ['txwpCDw5Utu9WbM0VtYJqg', 'YnnYwfMEeSru_cJ_qKeofw', 'ZSpfF89JnQN6fiS8OhBlZQ', 'x44o1_Dw4QsQZRtBJgwZaA', '9R5laAm5Kv4aBLVtH1gVnA', 'I1wArJIYbFl2txUL6unC6A', 'sxQdEEfKRviWRymOoH9UiA', 'MPzZuWpKpeLBa833zzL9IQ', 'hSEGyy0-i1_ZXGIRySbgcg', '7LFdimtQU3yrgiKyE53klQ']\n",
      "The result for user 10 is: ['_HMiq7vSET4uhNScBdOJnw', 'T7ekp7FiffoWDq53hbZDhg', 'Rwzp59f3Ia-v2V8Ku0zZWQ', '6xx2FpMxjwabEHz_t2MiZg', 'O79uzVop5yqobf3bdjZzQg', '_7nMWBmfFvk9S3tKG3Ip_g', 'txwpCDw5Utu9WbM0VtYJqg', '5RFNZZvtfF9uHVSUeYwzbQ', 'lE9qVePgvolkhw6C3Cdkeg', 'NbQH02mMYJ4r1RqvG2FDBA']\n",
      "The result for user 11 is: ['_HMiq7vSET4uhNScBdOJnw', 'tz8VEeIOoM5Cu1NSnC2JIQ', 'rXhvV-YyZaJLjgOnz7_jkA', '2qw1-Q_sVbo9QHWDlmznsw', 'J9rMt_V1NX49rU3YUjh_7Q', 'x0Pk5Uvy0y63FSzcfmxRpQ', 'JHi4LCxdbpXthg98sQiicQ', 'x44o1_Dw4QsQZRtBJgwZaA', 'o1_iIC0rU2yuF3SZvf6IjA', 'avrJOt2Kzk7fUpe4D4_DAQ']\n",
      "The result for user 12 is: ['OExxlOVjUIDh3TFjPzbSDA', 'vVqxGrqt5ALxQjJGnntpKQ', 'qs6gA9Y5sRzpXnm_4QaP0Q', 'U3i7AaegudvpmDL23_wEmQ', '-WRbjOIgvQQ3jlJnvKUBNA', '7LFdimtQU3yrgiKyE53klQ', '_HMiq7vSET4uhNScBdOJnw', 'EqdAzi9c5xuhxN9brmEaZw', '2JFWJDNeLZN3dbTXs8kNMQ', 'CdAmgWWCabZQoYNNWOKcEw']\n",
      "The result for user 13 is: ['vVqxGrqt5ALxQjJGnntpKQ', '_HMiq7vSET4uhNScBdOJnw', '_7nMWBmfFvk9S3tKG3Ip_g', 'BYwoAKKtdSeylSN7QV8oNw', 'J9rMt_V1NX49rU3YUjh_7Q', 'MPzZuWpKpeLBa833zzL9IQ', 'x0Pk5Uvy0y63FSzcfmxRpQ', 'om14ZRoz5wTmPzie1V-zmA', 'txwpCDw5Utu9WbM0VtYJqg', 'cEX4Cw8q2ftBrbpCvInf0w']\n",
      "The result for user 14 is: ['J3ijSN86u_Pg42BZjkDM_g', 'EqdAzi9c5xuhxN9brmEaZw', 'NbQH02mMYJ4r1RqvG2FDBA', '6LgTc7CZlXCd1Pxq3BiVcw', '6xx2FpMxjwabEHz_t2MiZg', 'lycfBKtcR7keDQQOeMMsoA', 'vVqxGrqt5ALxQjJGnntpKQ', 'MuaIn9h_YOAmZxHxtQXAAw', 'JHi4LCxdbpXthg98sQiicQ', '5RFNZZvtfF9uHVSUeYwzbQ']\n",
      "The result for user 15 is: ['x44o1_Dw4QsQZRtBJgwZaA', 'txwpCDw5Utu9WbM0VtYJqg', 'OLP_CJcooPYzXPlNGPPTXQ', 'Rwzp59f3Ia-v2V8Ku0zZWQ', '_HMiq7vSET4uhNScBdOJnw', 'vVqxGrqt5ALxQjJGnntpKQ', '5RFNZZvtfF9uHVSUeYwzbQ', 'sxQdEEfKRviWRymOoH9UiA', 'ymAw53bQVppVV7T40fNgRw', '-WRbjOIgvQQ3jlJnvKUBNA']\n",
      "The result for user 16 is: ['7LFdimtQU3yrgiKyE53klQ', 'Rwzp59f3Ia-v2V8Ku0zZWQ', 'ahlZC7XOKN-XJ7P4sPZrRg', 'VEy3-SnvsKgWfGM_b2irbA', 'P7-GGakh0UR80xIl93t07Q', 'hSEGyy0-i1_ZXGIRySbgcg', 'x44o1_Dw4QsQZRtBJgwZaA', 'tDGDMePyQvBBn416-1SEMA', 'NAsglQPCdPMJV_RkHge27A', 'vVqxGrqt5ALxQjJGnntpKQ']\n",
      "The result for user 17 is: ['BfGgttAzEPx9v7b8Sgkedw', 'BYwoAKKtdSeylSN7QV8oNw', 'vVqxGrqt5ALxQjJGnntpKQ', 'J9rMt_V1NX49rU3YUjh_7Q', 'txwpCDw5Utu9WbM0VtYJqg', 'xpHn6SAJ3xqJGgzZTASrSg', 'MqdAYfl1p_c1144i48k6jw', 'aHxevt92MXl1CjnKE2YMqw', 'tRPHSd0ow1hsqMRxyMePeg', 'ymAw53bQVppVV7T40fNgRw']\n",
      "The result for user 18 is: ['ymAw53bQVppVV7T40fNgRw', 'ahlZC7XOKN-XJ7P4sPZrRg', '-WRbjOIgvQQ3jlJnvKUBNA', 'EOVqWdn7Gjs6HW_W4lollQ', 'xD3L3JhNxsAfQikOHWHa4w', 'txwpCDw5Utu9WbM0VtYJqg', 'BfGgttAzEPx9v7b8Sgkedw', 'bjL1PC2e9dvjBVewmoXYwQ', 'vVqxGrqt5ALxQjJGnntpKQ', 'PiHPVBDkXTXaJtrrnJt9QQ']\n",
      "The result for user 19 is: ['J9rMt_V1NX49rU3YUjh_7Q', 'pnjp8dim5eVWHIX7oYnEbQ', 'xD3L3JhNxsAfQikOHWHa4w', 'ahlZC7XOKN-XJ7P4sPZrRg', 'd3vB2tlgTEapMU_kGiXRoQ', 'kA5pZz-koXIlPaDJALDroQ', '7LFdimtQU3yrgiKyE53klQ', 'XAMUaVFO2y5Vf1Uz_rYA1Q', '-WRbjOIgvQQ3jlJnvKUBNA', 'AQEEH7JP1DFrvFuMi6TP2Q']\n",
      "The result for user 20 is: ['AQEEH7JP1DFrvFuMi6TP2Q', 'T7ekp7FiffoWDq53hbZDhg', 'M3L6py5NM0_WjIT7410M0Q', 'f6SN9YUSpb9AjS4hnFgyxg', 'YiwgRnxp091jA6z98a71GQ', 'zo92mzQ7NBlazYi1F0KHMw', 'i5dxKKLe2kJ8WbPUXilPGg', 'Yp3CLIf55i9sY7tVAO6a3Q', 'Pv0P0vYFIOlMPPfn18Wc7Q', 'vZiWYH4XIiy3fqPNy615Kg']\n",
      "The result for user 21 is: ['fY1IkBnRft1KR0O2tqu7pg', 'KPrdWch1680ihzVe3C-s3w', 'ZhJ59SFPifQiTW0gAddfGw', 'dFYfZsc-SUwRpDEgJiIoXA', 'CdAmgWWCabZQoYNNWOKcEw', 'hSEGyy0-i1_ZXGIRySbgcg', 'MPzZuWpKpeLBa833zzL9IQ', '-WRbjOIgvQQ3jlJnvKUBNA', 'M-PobdAR2gJhPyLR_WzMCQ', 'XuxzGu2PEr59drHseZOVCg']\n",
      "The result for user 22 is: ['Pv0P0vYFIOlMPPfn18Wc7Q', 'tDGDMePyQvBBn416-1SEMA', 'NbQH02mMYJ4r1RqvG2FDBA', '_HMiq7vSET4uhNScBdOJnw', 'Ku333V1F3_9MVKUJ72_ZBw', 'LFknVw6uTIaL-MY_RqkN7g', 'Rwzp59f3Ia-v2V8Ku0zZWQ', 'x44o1_Dw4QsQZRtBJgwZaA', 'T7ekp7FiffoWDq53hbZDhg', 'fWTX7OI4PXfdxiBQfrNDkg']\n",
      "The result for user 23 is: ['I1wArJIYbFl2txUL6unC6A', '0UVlw30JrYGl79rT0XIEmw', 'cNfJMGK0MDvs13Y020wTgA', 'AQEEH7JP1DFrvFuMi6TP2Q', 'KX5KY8fLlMoJMS1NAj0Pvw', 'J9rMt_V1NX49rU3YUjh_7Q', 'BYwoAKKtdSeylSN7QV8oNw', 'i5dxKKLe2kJ8WbPUXilPGg', 'tRPHSd0ow1hsqMRxyMePeg', '2FLfIQ9u3PJKg2iLhkl91A']\n",
      "The result for user 24 is: ['g_oK5K039p7OVy43FSg-ug', 'uQu5DtnXZZ8XVfBKldKnag', 'i5dxKKLe2kJ8WbPUXilPGg', '7LFdimtQU3yrgiKyE53klQ', '-U4BnQL4VC3dkRDUZL0i8Q', 'x0Pk5Uvy0y63FSzcfmxRpQ', 'lJ5YkS5fxC8dcSK4FPtyYQ', 'xD3L3JhNxsAfQikOHWHa4w', 'ib_206uhcdzV7lNcCpniXA', 'x44o1_Dw4QsQZRtBJgwZaA']\n",
      "The result for user 25 is: ['wyDfBs1tYSIiBO7HCPKNTg', '5RFNZZvtfF9uHVSUeYwzbQ', 'j_gl-C2l5fwpmref4qTFsw', 'J9rMt_V1NX49rU3YUjh_7Q', '6xx2FpMxjwabEHz_t2MiZg', 'KX5KY8fLlMoJMS1NAj0Pvw', 'I1wArJIYbFl2txUL6unC6A', '5LMkTnMXOxlce_LwUNhpCQ', 'pJWufKPuAuRFUyky_LeUMg', 't7sRzgaAW6vCAW4KgBrytg']\n",
      "The result for user 26 is: ['Rwzp59f3Ia-v2V8Ku0zZWQ', 'txwpCDw5Utu9WbM0VtYJqg', '_HMiq7vSET4uhNScBdOJnw', 'J9rMt_V1NX49rU3YUjh_7Q', 'YnnYwfMEeSru_cJ_qKeofw', 'jLcBOqa-UT6qugFgZqjNvA', 'x44o1_Dw4QsQZRtBJgwZaA', '_7nMWBmfFvk9S3tKG3Ip_g', '9R5laAm5Kv4aBLVtH1gVnA', 'cEX4Cw8q2ftBrbpCvInf0w']\n",
      "The result for user 27 is: ['IC15vAUX4EiMlWxxMehohw', 'Rwzp59f3Ia-v2V8Ku0zZWQ', 'vVqxGrqt5ALxQjJGnntpKQ', '_HMiq7vSET4uhNScBdOJnw', 'jLcBOqa-UT6qugFgZqjNvA', 'o1_iIC0rU2yuF3SZvf6IjA', '9R5laAm5Kv4aBLVtH1gVnA', 'I1wArJIYbFl2txUL6unC6A', 'z3zGql0n8YV9HCtUu6Be2w', 'dFYfZsc-SUwRpDEgJiIoXA']\n",
      "The result for user 28 is: ['xD3L3JhNxsAfQikOHWHa4w', '58PYKm0WgNunAzuS4Qu1Zg', 'WdgQzBYDtTgcLahHvtiokA', 'bjL1PC2e9dvjBVewmoXYwQ', 'f0XsCt81O34aR6BEo7GyQg', 'CfFGKTJ1RgdTYpY0fj1E5w', 'pKrcWHvmxT2pIAhInIUj3w', '6xx2FpMxjwabEHz_t2MiZg', 'J3ijSN86u_Pg42BZjkDM_g', 'DDd3TW3lDvQduqmw-UkrUg']\n",
      "The result for user 29 is: ['cEX4Cw8q2ftBrbpCvInf0w', 'J9rMt_V1NX49rU3YUjh_7Q', 'j_aIYB4uGOR45jAXivFNZQ', 'fY1IkBnRft1KR0O2tqu7pg', 'ymAw53bQVppVV7T40fNgRw', 'o1_iIC0rU2yuF3SZvf6IjA', 'bF_LdicaTRb_zXW7L3TgmA', 'xqniVNVNvAE1E9Qzf8b_Bw', 'at7wfECnjgIJi5o7gL8fyQ', 'HASO8wsJjyIEzf-g_EjeNg']\n",
      "The result for user 30 is: ['O79uzVop5yqobf3bdjZzQg', 'LFknVw6uTIaL-MY_RqkN7g', 'T7ekp7FiffoWDq53hbZDhg', '_HMiq7vSET4uhNScBdOJnw', '7LFdimtQU3yrgiKyE53klQ', 'fY1IkBnRft1KR0O2tqu7pg', '5tmDnlBsHIGGKEm7xVgsVQ', 'ZhJ59SFPifQiTW0gAddfGw', 'NbQH02mMYJ4r1RqvG2FDBA', 'j_aIYB4uGOR45jAXivFNZQ']\n",
      "The result for user 31 is: ['uQu5DtnXZZ8XVfBKldKnag', 'KmKkhD-97CqPvokq5JIoBA', 'x44o1_Dw4QsQZRtBJgwZaA', '0hGE_UiUMAcF3PABcE-M4Q', 'I1wArJIYbFl2txUL6unC6A', 'J9rMt_V1NX49rU3YUjh_7Q', 'sxQdEEfKRviWRymOoH9UiA', '-WRbjOIgvQQ3jlJnvKUBNA', 'BYwoAKKtdSeylSN7QV8oNw', 'xAJfM-dMPOHFH35Adgi10w']\n",
      "The result for user 32 is: ['J9rMt_V1NX49rU3YUjh_7Q', '_HMiq7vSET4uhNScBdOJnw', 'T7ekp7FiffoWDq53hbZDhg', 'BYwoAKKtdSeylSN7QV8oNw', 'Rwzp59f3Ia-v2V8Ku0zZWQ', 'txwpCDw5Utu9WbM0VtYJqg', '5RFNZZvtfF9uHVSUeYwzbQ', 'tRPHSd0ow1hsqMRxyMePeg', 'tDGDMePyQvBBn416-1SEMA', 'ymAw53bQVppVV7T40fNgRw']\n",
      "The result for user 33 is: ['6xx2FpMxjwabEHz_t2MiZg', 'S28wsa8TvT_ptmbxVuvzTA', 'wyDfBs1tYSIiBO7HCPKNTg', 'MqdAYfl1p_c1144i48k6jw', 'J9rMt_V1NX49rU3YUjh_7Q', '-WRbjOIgvQQ3jlJnvKUBNA', '_HMiq7vSET4uhNScBdOJnw', 'ahlZC7XOKN-XJ7P4sPZrRg', 'pAOYo3ZahSkdHTVPPGtGfQ', 'BYwoAKKtdSeylSN7QV8oNw']\n",
      "The result for user 34 is: ['6LgTc7CZlXCd1Pxq3BiVcw', 'vVqxGrqt5ALxQjJGnntpKQ', 'Rwzp59f3Ia-v2V8Ku0zZWQ', 'txwpCDw5Utu9WbM0VtYJqg', 'xAJfM-dMPOHFH35Adgi10w', '_HMiq7vSET4uhNScBdOJnw', '0W5UWAcjwGuCJOv8rXGMqw', '-U4BnQL4VC3dkRDUZL0i8Q', 'Hrpu2ZTOajdxu9jVt4Icqg', '58PYKm0WgNunAzuS4Qu1Zg']\n",
      "The result for user 35 is: ['k3pHAEdDGC2tqHlrqXql4Q', 'n5vQCdHfl2Dm7r4l5FW8Cw', 'IC15vAUX4EiMlWxxMehohw', 'CTYFfHq1SWFyCeJ-KyIgOQ', 'tDGDMePyQvBBn416-1SEMA', 'I1wArJIYbFl2txUL6unC6A', 'x0Pk5Uvy0y63FSzcfmxRpQ', 'txwpCDw5Utu9WbM0VtYJqg', '_HMiq7vSET4uhNScBdOJnw', 'CdAmgWWCabZQoYNNWOKcEw']\n",
      "The result for user 36 is: ['_HMiq7vSET4uhNScBdOJnw', 'JHi4LCxdbpXthg98sQiicQ', 'lE9qVePgvolkhw6C3Cdkeg', 'BYwoAKKtdSeylSN7QV8oNw', 'sxQdEEfKRviWRymOoH9UiA', 'T7ekp7FiffoWDq53hbZDhg', 'ib_206uhcdzV7lNcCpniXA', 'Rwzp59f3Ia-v2V8Ku0zZWQ', 'tDGDMePyQvBBn416-1SEMA', 'Rl318hUrGlkPJhMmNNZizQ']\n",
      "The result for user 37 is: ['Rwzp59f3Ia-v2V8Ku0zZWQ', 'EJNkmXMDWurCPjOZe_WXAg', 'new3Ny6i5ZJVn3m-i4A2Tg', 'cGXLaKJqNvZRwYtqm1PK4w', 'XLa3iW4hkLyImtZAx61lSg', 'uQu5DtnXZZ8XVfBKldKnag', 'cNfJMGK0MDvs13Y020wTgA', 'Eo6RtLvIXcgSge6Z4Z6fFQ', 'xYGH13XolFh_yiQRo7bPJQ', 'DHtvncPCxHKnuMgobG4inw']\n",
      "The result for user 38 is: ['mnaTW8Wm0ESJXf4qqDtS9A', 'o1_iIC0rU2yuF3SZvf6IjA', '_HMiq7vSET4uhNScBdOJnw', 'x0Pk5Uvy0y63FSzcfmxRpQ', 'uQu5DtnXZZ8XVfBKldKnag', '1nw-_Bm8sivTBZ7Z-uiVCA', 'MqdAYfl1p_c1144i48k6jw', 'ul_m-XnIMAmddgqOpv5-aQ', 'YBXAx_jy3wHsaEfGhmaAyA', '1mvd8Z7e6wfivpaZkqeAAw']\n",
      "The result for user 39 is: ['J9rMt_V1NX49rU3YUjh_7Q', 'ADtSvzL_abKwWPM1EL2yJw', 'BfGgttAzEPx9v7b8Sgkedw', 'XuxzGu2PEr59drHseZOVCg', '7WDDntU3Kk9WWaINh-0RuA', 'NbQH02mMYJ4r1RqvG2FDBA', 'AQEEH7JP1DFrvFuMi6TP2Q', 'Rwzp59f3Ia-v2V8Ku0zZWQ', 'wPWk7hJj868wxljNgENh-g', 'x0Pk5Uvy0y63FSzcfmxRpQ']\n",
      "The result for user 40 is: ['_HMiq7vSET4uhNScBdOJnw', 'uQu5DtnXZZ8XVfBKldKnag', '9R5laAm5Kv4aBLVtH1gVnA', 'MqdAYfl1p_c1144i48k6jw', 'LdpItBAPRrIVIkIP4PZb1A', '7LFdimtQU3yrgiKyE53klQ', 'ZhJ59SFPifQiTW0gAddfGw', 'Egkl60a0DcH7n87Pr9neqg', 'I1wArJIYbFl2txUL6unC6A', 'dFYfZsc-SUwRpDEgJiIoXA']\n",
      "The result for user 41 is: ['hinGqQYvot8HtRYxSdr6FA', '97DdiERj19Fuk5CRpHl0Hg', 'fY1IkBnRft1KR0O2tqu7pg', 'NAsglQPCdPMJV_RkHge27A', 'WFtN3VJ4Tft0hQHl6NZaAA', 'VWLfePKMEj7g2P77RvRDuA', 'meUD8jqkG4uy0ERdqcZI6g', 'XuxzGu2PEr59drHseZOVCg', 'BYwoAKKtdSeylSN7QV8oNw', 'AQEEH7JP1DFrvFuMi6TP2Q']\n",
      "The result for user 42 is: ['r0bjzYPVHwZo_DP66VLt4Q', 'x0Pk5Uvy0y63FSzcfmxRpQ', 'J9rMt_V1NX49rU3YUjh_7Q', 'VWLfePKMEj7g2P77RvRDuA', 'Rwzp59f3Ia-v2V8Ku0zZWQ', 'sxQdEEfKRviWRymOoH9UiA', '7LFdimtQU3yrgiKyE53klQ', 'fY1IkBnRft1KR0O2tqu7pg', 'MqdAYfl1p_c1144i48k6jw', 'I1wArJIYbFl2txUL6unC6A']\n",
      "The result for user 43 is: ['0UVlw30JrYGl79rT0XIEmw', 'KmKkhD-97CqPvokq5JIoBA', 'BYwoAKKtdSeylSN7QV8oNw', 'at7wfECnjgIJi5o7gL8fyQ', 'i5dxKKLe2kJ8WbPUXilPGg', 'J9rMt_V1NX49rU3YUjh_7Q', '7LFdimtQU3yrgiKyE53klQ', 'Rwzp59f3Ia-v2V8Ku0zZWQ', 'ahlZC7XOKN-XJ7P4sPZrRg', 'xD3L3JhNxsAfQikOHWHa4w']\n",
      "The result for user 44 is: ['tz8VEeIOoM5Cu1NSnC2JIQ', 'x0Pk5Uvy0y63FSzcfmxRpQ', 'lycfBKtcR7keDQQOeMMsoA', '4Xm4LZQjoavYm0Yjs1QgsQ', 'VEy3-SnvsKgWfGM_b2irbA', 'JHi4LCxdbpXthg98sQiicQ', '_HMiq7vSET4uhNScBdOJnw', 'uQu5DtnXZZ8XVfBKldKnag', 'Lv5GFFciSK532QIX2ZLqjg', 'YkVRDcEa7vZK65u-tlL9tQ']\n",
      "The result for user 45 is: ['vVqxGrqt5ALxQjJGnntpKQ', 'CdAmgWWCabZQoYNNWOKcEw', 'EJNkmXMDWurCPjOZe_WXAg', 'NbQH02mMYJ4r1RqvG2FDBA', '7LFdimtQU3yrgiKyE53klQ', 'qs6gA9Y5sRzpXnm_4QaP0Q', '_7nMWBmfFvk9S3tKG3Ip_g', '0UVlw30JrYGl79rT0XIEmw', 'KPrdWch1680ihzVe3C-s3w', 'BYwoAKKtdSeylSN7QV8oNw']\n",
      "The result for user 46 is: ['LFknVw6uTIaL-MY_RqkN7g', '6LgTc7CZlXCd1Pxq3BiVcw', 'lnC_BiucMb6YJjm392nwAQ', 'DHtvncPCxHKnuMgobG4inw', 'Rxm5zLjRxq64trr1F-cPvA', '71aipxvzUEEAd245w61o7A', 'hSEGyy0-i1_ZXGIRySbgcg', 'Xtr2M_mh9_jOkmpNd_CSCA', 'vZiWYH4XIiy3fqPNy615Kg', 'KPrdWch1680ihzVe3C-s3w']\n",
      "The result for user 47 is: ['U3i7AaegudvpmDL23_wEmQ', 'vZiWYH4XIiy3fqPNy615Kg', 'EECw-s6Jy-fyJHhkUGQhHg', 'NCwX8t4pHpcAMzSCaC2Hww', 'ib_206uhcdzV7lNcCpniXA', 'CTYFfHq1SWFyCeJ-KyIgOQ', 'SlVW8CLHnA_NQPzZ6wYXCA', 'xD3L3JhNxsAfQikOHWHa4w', '3vr42-TF3V31LrN5sAFbDQ', '_HMiq7vSET4uhNScBdOJnw']\n",
      "The result for user 48 is: ['xqniVNVNvAE1E9Qzf8b_Bw', 'NKkh6R7i2DQbUtyd5IdG_A', '_7nMWBmfFvk9S3tKG3Ip_g', 'pAOYo3ZahSkdHTVPPGtGfQ', 'i5dxKKLe2kJ8WbPUXilPGg', 'VZcs1K7A31sNQurNXs9gaQ', 'J9rMt_V1NX49rU3YUjh_7Q', 'eKctA6ndawB61VrmSF-dXw', 'at7wfECnjgIJi5o7gL8fyQ', '7LFdimtQU3yrgiKyE53klQ']\n",
      "The result for user 49 is: ['VEy3-SnvsKgWfGM_b2irbA', 'lycfBKtcR7keDQQOeMMsoA', 'x44o1_Dw4QsQZRtBJgwZaA', 'jLcBOqa-UT6qugFgZqjNvA', '9R5laAm5Kv4aBLVtH1gVnA', '5LMkTnMXOxlce_LwUNhpCQ', '_HMiq7vSET4uhNScBdOJnw', 'LFknVw6uTIaL-MY_RqkN7g', 'vZiWYH4XIiy3fqPNy615Kg', 'ZhJ59SFPifQiTW0gAddfGw']\n",
      "The result for user 50 is: ['CTYFfHq1SWFyCeJ-KyIgOQ', '9R5laAm5Kv4aBLVtH1gVnA', 'jLcBOqa-UT6qugFgZqjNvA', 'VZcs1K7A31sNQurNXs9gaQ', 'WdgQzBYDtTgcLahHvtiokA', '4SkIsdnHAHD4rRKIRh0TIw', '7LFdimtQU3yrgiKyE53klQ', 'rbWy2FCc_ABGSt8AzaDieg', '3vr42-TF3V31LrN5sAFbDQ', 'rz8khUD2Amv1lBoIiwpEWw']\n",
      "The result for user 51 is: ['_HMiq7vSET4uhNScBdOJnw', 'vVqxGrqt5ALxQjJGnntpKQ', 'BYwoAKKtdSeylSN7QV8oNw', '7LFdimtQU3yrgiKyE53klQ', 'KPrdWch1680ihzVe3C-s3w', 'fY1IkBnRft1KR0O2tqu7pg', 'YkVRDcEa7vZK65u-tlL9tQ', '_7nMWBmfFvk9S3tKG3Ip_g', 'EJNkmXMDWurCPjOZe_WXAg', 'zJAYcuMrgSBRjrSaxawLcw']\n",
      "The result for user 52 is: ['J9rMt_V1NX49rU3YUjh_7Q', 'tz8VEeIOoM5Cu1NSnC2JIQ', 'vVqxGrqt5ALxQjJGnntpKQ', 'x0Pk5Uvy0y63FSzcfmxRpQ', 'cEX4Cw8q2ftBrbpCvInf0w', 'MPzZuWpKpeLBa833zzL9IQ', 'QNnQ3W1gDQtG1C-LVmedKA', 'CdAmgWWCabZQoYNNWOKcEw', 'x44o1_Dw4QsQZRtBJgwZaA', 'HALtXIDS54MBLYD3VRyJ8A']\n",
      "The result for user 53 is: ['tDGDMePyQvBBn416-1SEMA', '_HMiq7vSET4uhNScBdOJnw', 'T7ekp7FiffoWDq53hbZDhg', 'Rwzp59f3Ia-v2V8Ku0zZWQ', 'YkVRDcEa7vZK65u-tlL9tQ', 'ko4q1Oj4iWvYSxoamlcEgw', 'ahlZC7XOKN-XJ7P4sPZrRg', 'ib_206uhcdzV7lNcCpniXA', 'Rl318hUrGlkPJhMmNNZizQ', 'BYwoAKKtdSeylSN7QV8oNw']\n",
      "The result for user 54 is: ['KX5KY8fLlMoJMS1NAj0Pvw', 'sxQdEEfKRviWRymOoH9UiA', '9R5laAm5Kv4aBLVtH1gVnA', 'AQEEH7JP1DFrvFuMi6TP2Q', 'J9rMt_V1NX49rU3YUjh_7Q', 'fZ0-lttPgjycJi9oYs_uag', 'jLcBOqa-UT6qugFgZqjNvA', 'I1wArJIYbFl2txUL6unC6A', 'vVqxGrqt5ALxQjJGnntpKQ', 'qs6gA9Y5sRzpXnm_4QaP0Q']\n",
      "The result for user 55 is: ['2JFWJDNeLZN3dbTXs8kNMQ', 'OExxlOVjUIDh3TFjPzbSDA', 'U3i7AaegudvpmDL23_wEmQ', 'BYwoAKKtdSeylSN7QV8oNw', 'ymAw53bQVppVV7T40fNgRw', 'KX5KY8fLlMoJMS1NAj0Pvw', 'I1wArJIYbFl2txUL6unC6A', 'x44o1_Dw4QsQZRtBJgwZaA', 'wyDfBs1tYSIiBO7HCPKNTg', 'kreVrwY9zqfQVFbF-CP_Gg']\n",
      "The result for user 56 is: ['NSjzCmaZGZAOe6i9l1lj9g', 'PiHPVBDkXTXaJtrrnJt9QQ', '8F-sFWDWTnJlZz4SOum5aA', 'dFYfZsc-SUwRpDEgJiIoXA', '4Xm4LZQjoavYm0Yjs1QgsQ', 'CdAmgWWCabZQoYNNWOKcEw', 'c7Ri-jVC0lvZbJtSPIsSEw', 'ALNmvpU7JN_tOCD653vVWA', 'sxQdEEfKRviWRymOoH9UiA', '73G2fb9fQ1bHRqns3cikmA']\n",
      "The result for user 57 is: ['vVqxGrqt5ALxQjJGnntpKQ', 'x44o1_Dw4QsQZRtBJgwZaA', 'EOVqWdn7Gjs6HW_W4lollQ', 'P-X4kr5pDqXzhPEfa6RsTQ', 'lJ5YkS5fxC8dcSK4FPtyYQ', 'uQu5DtnXZZ8XVfBKldKnag', '7LFdimtQU3yrgiKyE53klQ', 'I1wArJIYbFl2txUL6unC6A', 'IC15vAUX4EiMlWxxMehohw', 'Rwzp59f3Ia-v2V8Ku0zZWQ']\n",
      "The result for user 58 is: ['NbQH02mMYJ4r1RqvG2FDBA', 'ZhJ59SFPifQiTW0gAddfGw', 'fY1IkBnRft1KR0O2tqu7pg', 'fqhahiKsc6gPs5Sx4mf9Vg', 'hinGqQYvot8HtRYxSdr6FA', 'tz8VEeIOoM5Cu1NSnC2JIQ', 'g_oK5K039p7OVy43FSg-ug', 'aYdHn3OiBekxS3MUXIc59Q', 'CtKk2tB1I0QNui996NR2pg', 'kLi8I3QjruV-YUoauy9n_A']\n",
      "The result for user 59 is: ['YnnYwfMEeSru_cJ_qKeofw', 'NbQH02mMYJ4r1RqvG2FDBA', 'bjL1PC2e9dvjBVewmoXYwQ', 'ahlZC7XOKN-XJ7P4sPZrRg', 'CHSOxwAtWXl4I2kvBT-sng', 'CdAmgWWCabZQoYNNWOKcEw', '3n_2L-oqqw6noFKsb3qmeg', 'tDGDMePyQvBBn416-1SEMA', 'fqhahiKsc6gPs5Sx4mf9Vg', 'IUY-BllJGubN2vugqV7Fwg']\n",
      "The result for user 60 is: ['i5dxKKLe2kJ8WbPUXilPGg', 'ahlZC7XOKN-XJ7P4sPZrRg', '0W5UWAcjwGuCJOv8rXGMqw', 'LFknVw6uTIaL-MY_RqkN7g', 'd3vB2tlgTEapMU_kGiXRoQ', 'UPRFpMsB4I64GRjUqjRmiw', 'vVqxGrqt5ALxQjJGnntpKQ', 'MqdAYfl1p_c1144i48k6jw', 'OExxlOVjUIDh3TFjPzbSDA', 'txwpCDw5Utu9WbM0VtYJqg']\n",
      "The result for user 61 is: ['lnC_BiucMb6YJjm392nwAQ', '71aipxvzUEEAd245w61o7A', 'x0Pk5Uvy0y63FSzcfmxRpQ', 'ADtSvzL_abKwWPM1EL2yJw', 'jrri7I3ZscmfRLEeIc0UXg', 'SNO_rcpzRL8b2EB9QuntTQ', '_7nMWBmfFvk9S3tKG3Ip_g', 'x44o1_Dw4QsQZRtBJgwZaA', 'k64owRciJIw71LW9Fx3FUw', 'CdAmgWWCabZQoYNNWOKcEw']\n",
      "The result for user 62 is: ['ahlZC7XOKN-XJ7P4sPZrRg', 'NbQH02mMYJ4r1RqvG2FDBA', 'pAOYo3ZahSkdHTVPPGtGfQ', 'idWK9PJCzUMtNmZrg266KA', 'VEy3-SnvsKgWfGM_b2irbA', 'rAmZbbHYehHOS4p4rkYWmg', 'ALNmvpU7JN_tOCD653vVWA', 'kLi8I3QjruV-YUoauy9n_A', 'vVqxGrqt5ALxQjJGnntpKQ', 'OLP_CJcooPYzXPlNGPPTXQ']\n",
      "The result for user 63 is: ['cEX4Cw8q2ftBrbpCvInf0w', 'vVqxGrqt5ALxQjJGnntpKQ', 'J9rMt_V1NX49rU3YUjh_7Q', 'txwpCDw5Utu9WbM0VtYJqg', 'fY1IkBnRft1KR0O2tqu7pg', 'bjL1PC2e9dvjBVewmoXYwQ', 'xqniVNVNvAE1E9Qzf8b_Bw', '5RFNZZvtfF9uHVSUeYwzbQ', 'j_aIYB4uGOR45jAXivFNZQ', 'BfGgttAzEPx9v7b8Sgkedw']\n",
      "The result for user 64 is: ['GGMka0ITgk7w_YUHUo8gqg', 'uq9uIKV-lxn1bvLxkQaAow', 'XuxzGu2PEr59drHseZOVCg', 'lJ5YkS5fxC8dcSK4FPtyYQ', 'CvS3MUQVNSRk-RCL5Iwwug', 'fZ0-lttPgjycJi9oYs_uag', 'KPrdWch1680ihzVe3C-s3w', 'ZSpfF89JnQN6fiS8OhBlZQ', 'ib_206uhcdzV7lNcCpniXA', 'rXhvV-YyZaJLjgOnz7_jkA']\n",
      "The result for user 65 is: ['o1_iIC0rU2yuF3SZvf6IjA', 'Rl318hUrGlkPJhMmNNZizQ', 'CdAmgWWCabZQoYNNWOKcEw', '7LFdimtQU3yrgiKyE53klQ', '4Xm4LZQjoavYm0Yjs1QgsQ', '9R5laAm5Kv4aBLVtH1gVnA', 'mnaTW8Wm0ESJXf4qqDtS9A', '4ZOXsBhHx2EzrTwACILK2A', 'xdCYUyNhjRkKPR3lzcf9_g', '5RFNZZvtfF9uHVSUeYwzbQ']\n",
      "The result for user 66 is: ['Rl318hUrGlkPJhMmNNZizQ', '_HMiq7vSET4uhNScBdOJnw', '7LFdimtQU3yrgiKyE53klQ', 'qs6gA9Y5sRzpXnm_4QaP0Q', 'kA5pZz-koXIlPaDJALDroQ', 'tDGDMePyQvBBn416-1SEMA', 'vVqxGrqt5ALxQjJGnntpKQ', '9R5laAm5Kv4aBLVtH1gVnA', 'JHi4LCxdbpXthg98sQiicQ', 'ko4q1Oj4iWvYSxoamlcEgw']\n",
      "The result for user 67 is: ['U3i7AaegudvpmDL23_wEmQ', 'J9rMt_V1NX49rU3YUjh_7Q', 'vZiWYH4XIiy3fqPNy615Kg', 'YzYNEpi9JU34yJRqCxb9ag', 'BYwoAKKtdSeylSN7QV8oNw', 'x0Pk5Uvy0y63FSzcfmxRpQ', 'f_7AwdIzdiAbAlL2u--BaQ', 'LFknVw6uTIaL-MY_RqkN7g', 'HkZyV6SIVzdFpC5GRYlMkA', 'x44o1_Dw4QsQZRtBJgwZaA']\n",
      "The result for user 68 is: ['new3Ny6i5ZJVn3m-i4A2Tg', '7LFdimtQU3yrgiKyE53klQ', 'Rwzp59f3Ia-v2V8Ku0zZWQ', 'BYwoAKKtdSeylSN7QV8oNw', 'l5lEOq47ne-jWKl67VKwZA', 'ib_206uhcdzV7lNcCpniXA', 'vcRsuNy62SGrrD9Mezz2aQ', 'dFYfZsc-SUwRpDEgJiIoXA', 'xD3L3JhNxsAfQikOHWHa4w', 'Bf5g9rQo8G1e_4Eu4diZJQ']\n",
      "The result for user 69 is: ['cEX4Cw8q2ftBrbpCvInf0w', 'vVqxGrqt5ALxQjJGnntpKQ', '6LgTc7CZlXCd1Pxq3BiVcw', '-U4BnQL4VC3dkRDUZL0i8Q', '0W5UWAcjwGuCJOv8rXGMqw', 'M-PobdAR2gJhPyLR_WzMCQ', 'xAJfM-dMPOHFH35Adgi10w', '2JFWJDNeLZN3dbTXs8kNMQ', 'J9rMt_V1NX49rU3YUjh_7Q', '5RFNZZvtfF9uHVSUeYwzbQ']\n",
      "The result for user 70 is: ['_HMiq7vSET4uhNScBdOJnw', '7LFdimtQU3yrgiKyE53klQ', 'vVqxGrqt5ALxQjJGnntpKQ', 'JHi4LCxdbpXthg98sQiicQ', 'ZhJ59SFPifQiTW0gAddfGw', 'YzYNEpi9JU34yJRqCxb9ag', 'f1kFik39vZHPEt3z7ZWu4g', 'jLcBOqa-UT6qugFgZqjNvA', 'KPrdWch1680ihzVe3C-s3w', 'BYwoAKKtdSeylSN7QV8oNw']\n",
      "The result for user 71 is: ['Rwzp59f3Ia-v2V8Ku0zZWQ', '7LFdimtQU3yrgiKyE53klQ', '_7nMWBmfFvk9S3tKG3Ip_g', 'x44o1_Dw4QsQZRtBJgwZaA', '_HMiq7vSET4uhNScBdOJnw', 'YzYNEpi9JU34yJRqCxb9ag', 'at7wfECnjgIJi5o7gL8fyQ', 'vVqxGrqt5ALxQjJGnntpKQ', 'NbQH02mMYJ4r1RqvG2FDBA', 'Vbv5y8geUylTv9c_NExF1A']\n",
      "The result for user 72 is: ['J9rMt_V1NX49rU3YUjh_7Q', '3vr42-TF3V31LrN5sAFbDQ', 'i5dxKKLe2kJ8WbPUXilPGg', 'YkVRDcEa7vZK65u-tlL9tQ', 'at7wfECnjgIJi5o7gL8fyQ', 'Rwzp59f3Ia-v2V8Ku0zZWQ', 'VEy3-SnvsKgWfGM_b2irbA', 'txwpCDw5Utu9WbM0VtYJqg', 'NbQH02mMYJ4r1RqvG2FDBA', 'LFknVw6uTIaL-MY_RqkN7g']\n",
      "The result for user 73 is: ['Lv5GFFciSK532QIX2ZLqjg', 'MPzZuWpKpeLBa833zzL9IQ', 'gPmD_yz_3DK6q8gmCfjpOA', 'x0Pk5Uvy0y63FSzcfmxRpQ', 'avrJOt2Kzk7fUpe4D4_DAQ', 'UGidvGF4aXsl7aVvPLmO4Q', '3hxwHzQ432UL3rQAWJG5TA', 'xsaHJx_tkVj1RArC2Fr3PA', 'hinGqQYvot8HtRYxSdr6FA', 'NbNk81ze4wftHA9hoXik7A']\n",
      "The result for user 74 is: ['6LgTc7CZlXCd1Pxq3BiVcw', 'lycfBKtcR7keDQQOeMMsoA', 'ZhJ59SFPifQiTW0gAddfGw', 'dFYfZsc-SUwRpDEgJiIoXA', 'Bf5g9rQo8G1e_4Eu4diZJQ', 'tz8VEeIOoM5Cu1NSnC2JIQ', '5RFNZZvtfF9uHVSUeYwzbQ', 'P-X4kr5pDqXzhPEfa6RsTQ', 'UGidvGF4aXsl7aVvPLmO4Q', '2JFWJDNeLZN3dbTXs8kNMQ']\n",
      "The result for user 75 is: ['gPmD_yz_3DK6q8gmCfjpOA', 'M-PobdAR2gJhPyLR_WzMCQ', 'TzKx4KbFOzLX0v7F31cSpw', 'AQEEH7JP1DFrvFuMi6TP2Q', '_HMiq7vSET4uhNScBdOJnw', '1AEbuCjMRS18fhpXAQozTQ', 'LpH8qtJxfubEf4BRJVcWjg', 'vVqxGrqt5ALxQjJGnntpKQ', '6LgTc7CZlXCd1Pxq3BiVcw', 'UPRFpMsB4I64GRjUqjRmiw']\n",
      "The result for user 76 is: ['I1wArJIYbFl2txUL6unC6A', 'ib_206uhcdzV7lNcCpniXA', 'pnjp8dim5eVWHIX7oYnEbQ', 'CHSOxwAtWXl4I2kvBT-sng', '7LFdimtQU3yrgiKyE53klQ', 'xqniVNVNvAE1E9Qzf8b_Bw', 'J9rMt_V1NX49rU3YUjh_7Q', 'ahlZC7XOKN-XJ7P4sPZrRg', '_HMiq7vSET4uhNScBdOJnw', 'KX5KY8fLlMoJMS1NAj0Pvw']\n",
      "The result for user 77 is: ['dFYfZsc-SUwRpDEgJiIoXA', 'UPRFpMsB4I64GRjUqjRmiw', 'NAsglQPCdPMJV_RkHge27A', 'MqdAYfl1p_c1144i48k6jw', 'ymAw53bQVppVV7T40fNgRw', '-WRbjOIgvQQ3jlJnvKUBNA', 'DDd3TW3lDvQduqmw-UkrUg', 'r0bjzYPVHwZo_DP66VLt4Q', '7LFdimtQU3yrgiKyE53klQ', 'HkZyV6SIVzdFpC5GRYlMkA']\n",
      "The result for user 78 is: ['9R5laAm5Kv4aBLVtH1gVnA', 'XAMUaVFO2y5Vf1Uz_rYA1Q', 'J9rMt_V1NX49rU3YUjh_7Q', 'at7wfECnjgIJi5o7gL8fyQ', 'i5dxKKLe2kJ8WbPUXilPGg', 'tRPHSd0ow1hsqMRxyMePeg', 'kA5pZz-koXIlPaDJALDroQ', 'IUY-BllJGubN2vugqV7Fwg', '_7nMWBmfFvk9S3tKG3Ip_g', 'n2CnBRKK82cWZ9a2OjS2xQ']\n",
      "The result for user 79 is: ['BfGgttAzEPx9v7b8Sgkedw', 'x0Pk5Uvy0y63FSzcfmxRpQ', 'Pv0P0vYFIOlMPPfn18Wc7Q', 'LFknVw6uTIaL-MY_RqkN7g', 'NbQH02mMYJ4r1RqvG2FDBA', '3hjoOyDJa8CjJtG6hApzIg', 'IC15vAUX4EiMlWxxMehohw', 'UPRFpMsB4I64GRjUqjRmiw', 'tDGDMePyQvBBn416-1SEMA', 'txwpCDw5Utu9WbM0VtYJqg']\n",
      "The result for user 80 is: ['fY1IkBnRft1KR0O2tqu7pg', 'BYwoAKKtdSeylSN7QV8oNw', 'uQu5DtnXZZ8XVfBKldKnag', 'I1wArJIYbFl2txUL6unC6A', 'ZhJ59SFPifQiTW0gAddfGw', 'dFYfZsc-SUwRpDEgJiIoXA', 'rXhvV-YyZaJLjgOnz7_jkA', 'DDd3TW3lDvQduqmw-UkrUg', 'Rwzp59f3Ia-v2V8Ku0zZWQ', 'JHi4LCxdbpXthg98sQiicQ']\n",
      "The result for user 81 is: ['i5dxKKLe2kJ8WbPUXilPGg', 'JHi4LCxdbpXthg98sQiicQ', '5p2AWrPlYJM5hh54HcyA3g', 'BYwoAKKtdSeylSN7QV8oNw', 'dFYfZsc-SUwRpDEgJiIoXA', 'OExxlOVjUIDh3TFjPzbSDA', 'lycfBKtcR7keDQQOeMMsoA', '-U4BnQL4VC3dkRDUZL0i8Q', 'VEy3-SnvsKgWfGM_b2irbA', 'ib_206uhcdzV7lNcCpniXA']\n",
      "The result for user 82 is: ['_HMiq7vSET4uhNScBdOJnw', 'BYwoAKKtdSeylSN7QV8oNw', 'KPrdWch1680ihzVe3C-s3w', 'WdgQzBYDtTgcLahHvtiokA', 'x44o1_Dw4QsQZRtBJgwZaA', '2qw1-Q_sVbo9QHWDlmznsw', '5p2AWrPlYJM5hh54HcyA3g', 'Rwzp59f3Ia-v2V8Ku0zZWQ', 'I1wArJIYbFl2txUL6unC6A', '58PYKm0WgNunAzuS4Qu1Zg']\n",
      "The result for user 83 is: ['eCrnMk8-7not5ZjSfjQJ2g', 'vZiWYH4XIiy3fqPNy615Kg', 'UDXIJd-jPiVXp2ZoQwJt8g', 'Csr5OTkr0JX6Ho6Rm3b9qA', 'sxQdEEfKRviWRymOoH9UiA', 'MPzZuWpKpeLBa833zzL9IQ', 'gzBoOo4E1ornEHYod52uew', 'OExxlOVjUIDh3TFjPzbSDA', '9R5laAm5Kv4aBLVtH1gVnA', 'HkZyV6SIVzdFpC5GRYlMkA']\n",
      "The result for user 84 is: ['7LFdimtQU3yrgiKyE53klQ', 'MqdAYfl1p_c1144i48k6jw', 'Rl318hUrGlkPJhMmNNZizQ', 'ahlZC7XOKN-XJ7P4sPZrRg', 'f0XsCt81O34aR6BEo7GyQg', '2JFWJDNeLZN3dbTXs8kNMQ', 'bjL1PC2e9dvjBVewmoXYwQ', 'rz8khUD2Amv1lBoIiwpEWw', 'DDd3TW3lDvQduqmw-UkrUg', 'sxQdEEfKRviWRymOoH9UiA']\n",
      "The result for user 85 is: ['6LgTc7CZlXCd1Pxq3BiVcw', 'txwpCDw5Utu9WbM0VtYJqg', 'i5dxKKLe2kJ8WbPUXilPGg', 'VEy3-SnvsKgWfGM_b2irbA', 'rAy5tizRpmTpZBg_0aTlKg', 'vVqxGrqt5ALxQjJGnntpKQ', 'NbQH02mMYJ4r1RqvG2FDBA', 'qi9XyrpSlIKlERKn9Kj_VA', '-WRbjOIgvQQ3jlJnvKUBNA', 'pAOYo3ZahSkdHTVPPGtGfQ']\n",
      "The result for user 86 is: ['7LFdimtQU3yrgiKyE53klQ', 'hSEGyy0-i1_ZXGIRySbgcg', 'fqhahiKsc6gPs5Sx4mf9Vg', 'K0jxSR_b1Bm4vmjCeSx9qA', 'fY1IkBnRft1KR0O2tqu7pg', 'ZhJ59SFPifQiTW0gAddfGw', 'vZiWYH4XIiy3fqPNy615Kg', 'WFtN3VJ4Tft0hQHl6NZaAA', 'EqdAzi9c5xuhxN9brmEaZw', 'Ah9S8sO0nLAYS8tXWd3jsA']\n",
      "The result for user 87 is: ['uQu5DtnXZZ8XVfBKldKnag', 'CdAmgWWCabZQoYNNWOKcEw', '7LFdimtQU3yrgiKyE53klQ', 'MuaIn9h_YOAmZxHxtQXAAw', 'x0Pk5Uvy0y63FSzcfmxRpQ', 'Rl318hUrGlkPJhMmNNZizQ', 'U3i7AaegudvpmDL23_wEmQ', 'ib_206uhcdzV7lNcCpniXA', 'lJ5YkS5fxC8dcSK4FPtyYQ', 'i5dxKKLe2kJ8WbPUXilPGg']\n",
      "The result for user 88 is: ['U3i7AaegudvpmDL23_wEmQ', 'fY1IkBnRft1KR0O2tqu7pg', 'ADtSvzL_abKwWPM1EL2yJw', 'bjL1PC2e9dvjBVewmoXYwQ', 'jJ8IwBfjGLdvYtVPtWt-Sw', '8F-sFWDWTnJlZz4SOum5aA', 'XLa3iW4hkLyImtZAx61lSg', 'NbQH02mMYJ4r1RqvG2FDBA', 'KPrdWch1680ihzVe3C-s3w', '2qw1-Q_sVbo9QHWDlmznsw']\n",
      "The result for user 89 is: ['BYwoAKKtdSeylSN7QV8oNw', 'vVqxGrqt5ALxQjJGnntpKQ', 'fqhahiKsc6gPs5Sx4mf9Vg', '-U4BnQL4VC3dkRDUZL0i8Q', '_7nMWBmfFvk9S3tKG3Ip_g', 'LFknVw6uTIaL-MY_RqkN7g', 'ib_206uhcdzV7lNcCpniXA', '7LFdimtQU3yrgiKyE53klQ', 'JHi4LCxdbpXthg98sQiicQ', 'uQu5DtnXZZ8XVfBKldKnag']\n",
      "The result for user 90 is: ['4ZOXsBhHx2EzrTwACILK2A', 'bjL1PC2e9dvjBVewmoXYwQ', 'MPzZuWpKpeLBa833zzL9IQ', 'CdAmgWWCabZQoYNNWOKcEw', 'DbvK2HkM-wxbEQxlmczAlQ', 'ahlZC7XOKN-XJ7P4sPZrRg', '4Xm4LZQjoavYm0Yjs1QgsQ', '9R5laAm5Kv4aBLVtH1gVnA', '6LgTc7CZlXCd1Pxq3BiVcw', 'x0Pk5Uvy0y63FSzcfmxRpQ']\n",
      "The result for user 91 is: ['fY1IkBnRft1KR0O2tqu7pg', '_HMiq7vSET4uhNScBdOJnw', 'lJ5YkS5fxC8dcSK4FPtyYQ', 'CdAmgWWCabZQoYNNWOKcEw', 'Pod_oVjja3Hg4ULdO6DxDQ', 'bjL1PC2e9dvjBVewmoXYwQ', 'EECw-s6Jy-fyJHhkUGQhHg', 'lgfG_hQos2l6TSku7ThJIA', 'VZcs1K7A31sNQurNXs9gaQ', 'MqdAYfl1p_c1144i48k6jw']\n",
      "The result for user 92 is: ['x0Pk5Uvy0y63FSzcfmxRpQ', 'BYwoAKKtdSeylSN7QV8oNw', 'vLIr2SJHzrjBwQ62F49a_A', 'Yp3CLIf55i9sY7tVAO6a3Q', 'CdAmgWWCabZQoYNNWOKcEw', 'x44o1_Dw4QsQZRtBJgwZaA', 'o1_iIC0rU2yuF3SZvf6IjA', 'mnaTW8Wm0ESJXf4qqDtS9A', 'om14ZRoz5wTmPzie1V-zmA', '71aipxvzUEEAd245w61o7A']\n",
      "The result for user 93 is: ['LPtMf4KcWYD_T6vI8kA34A', '2tGFUtUrE0DhwlX59pbArA', 'hinGqQYvot8HtRYxSdr6FA', 'gCTgjlUH5JQk0r-RZ7Gg_Q', 'fY1IkBnRft1KR0O2tqu7pg', 'Lv5GFFciSK532QIX2ZLqjg', 'r2L533c9lFGpjcuUJKY2PA', 'avrJOt2Kzk7fUpe4D4_DAQ', 'CtKk2tB1I0QNui996NR2pg', '1wminQ_T3ITTZXBRhLtFug']\n",
      "The result for user 94 is: ['0W5UWAcjwGuCJOv8rXGMqw', 'I1wArJIYbFl2txUL6unC6A', 't88UJ1i5c2HxbWQTV440mg', 'LFknVw6uTIaL-MY_RqkN7g', 'dFYfZsc-SUwRpDEgJiIoXA', 'Yp3CLIf55i9sY7tVAO6a3Q', 'x44o1_Dw4QsQZRtBJgwZaA', 'OExxlOVjUIDh3TFjPzbSDA', 'JG3Yw6z48y6Eyi0DnN19tQ', 'XLa3iW4hkLyImtZAx61lSg']\n",
      "The result for user 95 is: ['i5dxKKLe2kJ8WbPUXilPGg', 'EqdAzi9c5xuhxN9brmEaZw', '9R5laAm5Kv4aBLVtH1gVnA', 'J9rMt_V1NX49rU3YUjh_7Q', 'cEX4Cw8q2ftBrbpCvInf0w', 'U3i7AaegudvpmDL23_wEmQ', 'tDGDMePyQvBBn416-1SEMA', 'zbvn7fc_Lso9EGFC1_RYBg', 'CvS3MUQVNSRk-RCL5Iwwug', 'OExxlOVjUIDh3TFjPzbSDA']\n",
      "The result for user 96 is: ['I1wArJIYbFl2txUL6unC6A', 'i5dxKKLe2kJ8WbPUXilPGg', 'ahlZC7XOKN-XJ7P4sPZrRg', 'KX5KY8fLlMoJMS1NAj0Pvw', 'zV9vGjToUEEUXim9lgSQnQ', 'ib_206uhcdzV7lNcCpniXA', 'J9rMt_V1NX49rU3YUjh_7Q', 'tRPHSd0ow1hsqMRxyMePeg', 'QxT3goSTkSGWqq4ecId_AQ', '7LFdimtQU3yrgiKyE53klQ']\n",
      "The result for user 97 is: ['x0Pk5Uvy0y63FSzcfmxRpQ', 'ZhJ59SFPifQiTW0gAddfGw', 'fY1IkBnRft1KR0O2tqu7pg', 'RCCmioxS43ZBpVux9nIdIg', 'hinGqQYvot8HtRYxSdr6FA', 'GqZlZ412ixwUxU9GfxStgQ', 'u5ntkS81gicmqsJLnNOduw', 'Pz-MqlGaYrYa8q8mK5LDHA', 'CdAmgWWCabZQoYNNWOKcEw', 'rAy5tizRpmTpZBg_0aTlKg']\n",
      "The result for user 98 is: ['NbQH02mMYJ4r1RqvG2FDBA', 'YkVRDcEa7vZK65u-tlL9tQ', '7LFdimtQU3yrgiKyE53klQ', 'pJWufKPuAuRFUyky_LeUMg', 'VWLfePKMEj7g2P77RvRDuA', 'vZiWYH4XIiy3fqPNy615Kg', 'kA5pZz-koXIlPaDJALDroQ', 'l5lEOq47ne-jWKl67VKwZA', 'OExxlOVjUIDh3TFjPzbSDA', 'at7wfECnjgIJi5o7gL8fyQ']\n",
      "The result for user 99 is: ['_HMiq7vSET4uhNScBdOJnw', 'Rwzp59f3Ia-v2V8Ku0zZWQ', '5LMkTnMXOxlce_LwUNhpCQ', 'BYwoAKKtdSeylSN7QV8oNw', '7LFdimtQU3yrgiKyE53klQ', 'JMU8OV7YI_gCrifxb3-wuw', 'lE9qVePgvolkhw6C3Cdkeg', 'GBU-qhVsFCFtwnMkQb3Vdg', 'zArg-PsglebVBJMyjxfacw', 'MuaIn9h_YOAmZxHxtQXAAw']\n",
      "The result for user 100 is: ['EGoCGAhJMivxr_C7H0hoKw', 'I1wArJIYbFl2txUL6unC6A', 'mnaTW8Wm0ESJXf4qqDtS9A', 'bjL1PC2e9dvjBVewmoXYwQ', 'kLi8I3QjruV-YUoauy9n_A', '_HMiq7vSET4uhNScBdOJnw', 'NbQH02mMYJ4r1RqvG2FDBA', 'xAJfM-dMPOHFH35Adgi10w', 'Zztv1vtQ2AjOSUc_12-2pQ', 'ADtSvzL_abKwWPM1EL2yJw']\n",
      "The result for user 101 is: ['pKNDz1tzC5llbengNUz_7w', 'bjL1PC2e9dvjBVewmoXYwQ', 'Lv5GFFciSK532QIX2ZLqjg', 'g_oK5K039p7OVy43FSg-ug', 'f_7AwdIzdiAbAlL2u--BaQ', '0OxNWfWooOChGVdRmCm9JQ', 'hfP5UJGaCQBEaBx-uabkDA', 'CdAmgWWCabZQoYNNWOKcEw', 'tz8VEeIOoM5Cu1NSnC2JIQ', '4xrZmZJGrLY2kHL2ylM1uQ']\n",
      "The result for user 102 is: ['vVqxGrqt5ALxQjJGnntpKQ', 'lnC_BiucMb6YJjm392nwAQ', 'I1wArJIYbFl2txUL6unC6A', '6LgTc7CZlXCd1Pxq3BiVcw', 'fY1IkBnRft1KR0O2tqu7pg', 'CTYFfHq1SWFyCeJ-KyIgOQ', 'cEX4Cw8q2ftBrbpCvInf0w', 'ZhJ59SFPifQiTW0gAddfGw', 'HALtXIDS54MBLYD3VRyJ8A', 'Rl318hUrGlkPJhMmNNZizQ']\n",
      "The result for user 103 is: ['7LFdimtQU3yrgiKyE53klQ', 'LFknVw6uTIaL-MY_RqkN7g', 'ahlZC7XOKN-XJ7P4sPZrRg', 'Rwzp59f3Ia-v2V8Ku0zZWQ', 'x44o1_Dw4QsQZRtBJgwZaA', 'vVqxGrqt5ALxQjJGnntpKQ', 'VEy3-SnvsKgWfGM_b2irbA', 'ALNmvpU7JN_tOCD653vVWA', 'UPRFpMsB4I64GRjUqjRmiw', 'i5dxKKLe2kJ8WbPUXilPGg']\n",
      "The result for user 104 is: ['at7wfECnjgIJi5o7gL8fyQ', 'fY1IkBnRft1KR0O2tqu7pg', 'Rwzp59f3Ia-v2V8Ku0zZWQ', 'NbQH02mMYJ4r1RqvG2FDBA', '_HMiq7vSET4uhNScBdOJnw', 'ymAw53bQVppVV7T40fNgRw', 'J3ijSN86u_Pg42BZjkDM_g', 'o1_iIC0rU2yuF3SZvf6IjA', 'DDd3TW3lDvQduqmw-UkrUg', 'J9rMt_V1NX49rU3YUjh_7Q']\n",
      "The result for user 105 is: ['QxT3goSTkSGWqq4ecId_AQ', 'mnaTW8Wm0ESJXf4qqDtS9A', 'CdAmgWWCabZQoYNNWOKcEw', '6LgTc7CZlXCd1Pxq3BiVcw', 'ZhJ59SFPifQiTW0gAddfGw', 'i5dxKKLe2kJ8WbPUXilPGg', 'DDd3TW3lDvQduqmw-UkrUg', 'EGkiKECoBF3p7NnmHXVeJA', 'ahlZC7XOKN-XJ7P4sPZrRg', 'tRPHSd0ow1hsqMRxyMePeg']\n",
      "The result for user 106 is: ['Lv5GFFciSK532QIX2ZLqjg', 'fY1IkBnRft1KR0O2tqu7pg', '71aipxvzUEEAd245w61o7A', 'x0Pk5Uvy0y63FSzcfmxRpQ', 'mnaTW8Wm0ESJXf4qqDtS9A', 'M-PobdAR2gJhPyLR_WzMCQ', 'ar1-XkhICdqJDJUwCluz-g', 'lJ5YkS5fxC8dcSK4FPtyYQ', 'CTYFfHq1SWFyCeJ-KyIgOQ', 'hI6vMVmcnMaqTwkyobe7pQ']\n",
      "The result for user 107 is: ['LFknVw6uTIaL-MY_RqkN7g', '7LFdimtQU3yrgiKyE53klQ', 'ib_206uhcdzV7lNcCpniXA', 'VzRMui5cpdzkqYvHaHy5dw', 'YkVRDcEa7vZK65u-tlL9tQ', 'ZhJ59SFPifQiTW0gAddfGw', 'hSEGyy0-i1_ZXGIRySbgcg', 'x44o1_Dw4QsQZRtBJgwZaA', 'KmKkhD-97CqPvokq5JIoBA', '6LgTc7CZlXCd1Pxq3BiVcw']\n",
      "The result for user 108 is: ['Lv5GFFciSK532QIX2ZLqjg', 'uQu5DtnXZZ8XVfBKldKnag', 'OuU88_AEU5lo-t_XQpTyKg', 'BYwoAKKtdSeylSN7QV8oNw', '2FLfIQ9u3PJKg2iLhkl91A', 'bPTFBc-QY5jK2gdbPBjzYQ', 'JHi4LCxdbpXthg98sQiicQ', 'J3ijSN86u_Pg42BZjkDM_g', '1FW7ZzIuIoRnTz_z8uznzA', 'ZhJ59SFPifQiTW0gAddfGw']\n",
      "The result for user 109 is: ['J9rMt_V1NX49rU3YUjh_7Q', '_HMiq7vSET4uhNScBdOJnw', 'nUxW8GUPL4aDOKzWahs3lA', 'bnbe4G8Zyd4YCGJtMVGkDw', '9R5laAm5Kv4aBLVtH1gVnA', 'Rl318hUrGlkPJhMmNNZizQ', 'JzjxQh-XLNKNsUvrg8qdSQ', 'YzYNEpi9JU34yJRqCxb9ag', 'ib_206uhcdzV7lNcCpniXA', 'dFYfZsc-SUwRpDEgJiIoXA']\n",
      "The result for user 110 is: ['_HMiq7vSET4uhNScBdOJnw', 'I1wArJIYbFl2txUL6unC6A', '2JFWJDNeLZN3dbTXs8kNMQ', 'LFknVw6uTIaL-MY_RqkN7g', 'EGoCGAhJMivxr_C7H0hoKw', 'Rwzp59f3Ia-v2V8Ku0zZWQ', 'BYwoAKKtdSeylSN7QV8oNw', 'bjL1PC2e9dvjBVewmoXYwQ', 'tDGDMePyQvBBn416-1SEMA', 'WdgQzBYDtTgcLahHvtiokA']\n",
      "The result for user 111 is: ['ib_206uhcdzV7lNcCpniXA', 'I1wArJIYbFl2txUL6unC6A', 'bjL1PC2e9dvjBVewmoXYwQ', '3FgE99Li6EI2yTF5md0Z0g', 'xD3L3JhNxsAfQikOHWHa4w', 'uQu5DtnXZZ8XVfBKldKnag', 'K_dDUqteskTr9mO84iJ9iQ', 'i5dxKKLe2kJ8WbPUXilPGg', 'J9rMt_V1NX49rU3YUjh_7Q', 'sxQdEEfKRviWRymOoH9UiA']\n",
      "The result for user 112 is: ['Bf5g9rQo8G1e_4Eu4diZJQ', 'mlnucLO7hYxKoH77FEHh2g', 'MqdAYfl1p_c1144i48k6jw', 'jJ8IwBfjGLdvYtVPtWt-Sw', 'BYwoAKKtdSeylSN7QV8oNw', 'ko4q1Oj4iWvYSxoamlcEgw', 'VWLfePKMEj7g2P77RvRDuA', '44DaNU5UrGwKYxgxnSc5Ug', '_HMiq7vSET4uhNScBdOJnw', 'Lv5GFFciSK532QIX2ZLqjg']\n",
      "The result for user 113 is: ['fY1IkBnRft1KR0O2tqu7pg', '4l9M9C96HW6JpwrQPJGMNQ', 'Lv5GFFciSK532QIX2ZLqjg', 'LPtMf4KcWYD_T6vI8kA34A', 'gPmD_yz_3DK6q8gmCfjpOA', 'g_oK5K039p7OVy43FSg-ug', 'pcwlKHlxtAnteLtgMGePqA', 'GGMka0ITgk7w_YUHUo8gqg', 'qnttalt6oBBZhUwa7xtYJw', 'Pv0P0vYFIOlMPPfn18Wc7Q']\n",
      "The result for user 114 is: ['CdAmgWWCabZQoYNNWOKcEw', '3hxwHzQ432UL3rQAWJG5TA', '_HMiq7vSET4uhNScBdOJnw', 'J9rMt_V1NX49rU3YUjh_7Q', '7LFdimtQU3yrgiKyE53klQ', 'W0tm6RbkMynp-h4Vtb0QmA', 'WFtN3VJ4Tft0hQHl6NZaAA', 'Rl318hUrGlkPJhMmNNZizQ', 'KX5KY8fLlMoJMS1NAj0Pvw', 'Yp3CLIf55i9sY7tVAO6a3Q']\n",
      "The result for user 115 is: ['BYwoAKKtdSeylSN7QV8oNw', 'Rwzp59f3Ia-v2V8Ku0zZWQ', 'vZiWYH4XIiy3fqPNy615Kg', 'txwpCDw5Utu9WbM0VtYJqg', 'MvdRWrf33EkVW-2dzTuNyg', 'gQVBGe7A45rXgV6NL7X_mg', 'I1wArJIYbFl2txUL6unC6A', 'meUD8jqkG4uy0ERdqcZI6g', 'lycfBKtcR7keDQQOeMMsoA', 'vVqxGrqt5ALxQjJGnntpKQ']\n",
      "The result for user 116 is: ['5LMkTnMXOxlce_LwUNhpCQ', 'NKkh6R7i2DQbUtyd5IdG_A', 'NRrWbjN1X1X7Z1z_u5bFKQ', 'iyDqgTt373VERoXjQNXuHg', 'zo92mzQ7NBlazYi1F0KHMw', 'RpkU6XuZdsRlWpYvnIEeYw', 'XLa3iW4hkLyImtZAx61lSg', 'I1wArJIYbFl2txUL6unC6A', 'DbvK2HkM-wxbEQxlmczAlQ', 'GGMka0ITgk7w_YUHUo8gqg']\n",
      "The result for user 117 is: ['i5dxKKLe2kJ8WbPUXilPGg', 'bjL1PC2e9dvjBVewmoXYwQ', 'ymAw53bQVppVV7T40fNgRw', 'YnnYwfMEeSru_cJ_qKeofw', 'ib_206uhcdzV7lNcCpniXA', 'NbQH02mMYJ4r1RqvG2FDBA', 'UPRFpMsB4I64GRjUqjRmiw', 'ahlZC7XOKN-XJ7P4sPZrRg', 'SPCdv--a6cnorGitNtbDIg', 'Dn83poKTVhWL3ItLdalmYw']\n",
      "The result for user 118 is: ['Ku333V1F3_9MVKUJ72_ZBw', 'cEX4Cw8q2ftBrbpCvInf0w', '9R5laAm5Kv4aBLVtH1gVnA', '-U4BnQL4VC3dkRDUZL0i8Q', 'GGMka0ITgk7w_YUHUo8gqg', 'ymAw53bQVppVV7T40fNgRw', '_7nMWBmfFvk9S3tKG3Ip_g', 'J9rMt_V1NX49rU3YUjh_7Q', 'TzKx4KbFOzLX0v7F31cSpw', 'CTYFfHq1SWFyCeJ-KyIgOQ']\n",
      "The result for user 119 is: ['bjL1PC2e9dvjBVewmoXYwQ', 'ADtSvzL_abKwWPM1EL2yJw', 'Lv5GFFciSK532QIX2ZLqjg', '71aipxvzUEEAd245w61o7A', 'H1pzpBdffm4NUbBRP8KLDA', 'OuU88_AEU5lo-t_XQpTyKg', 'r4fKOExeR6lvb6C-YFsv0Q', 'ymAw53bQVppVV7T40fNgRw', 'VT5wtNwX96frtL47yB3VWw', 'fWTX7OI4PXfdxiBQfrNDkg']\n",
      "The result for user 120 is: ['vVqxGrqt5ALxQjJGnntpKQ', 'Rwzp59f3Ia-v2V8Ku0zZWQ', 'rAy5tizRpmTpZBg_0aTlKg', '3n_2L-oqqw6noFKsb3qmeg', 'jLcBOqa-UT6qugFgZqjNvA', '_HMiq7vSET4uhNScBdOJnw', 'tq03doSUN1Hpd2zmNAMRCQ', '7LFdimtQU3yrgiKyE53klQ', '6LgTc7CZlXCd1Pxq3BiVcw', 'V6ZbbgJMenh5XCQ1H4hrYw']\n",
      "The result for user 121 is: ['fY1IkBnRft1KR0O2tqu7pg', 'CVAUcmvMu6voGtA1aQdG_Q', '_HMiq7vSET4uhNScBdOJnw', 'I1wArJIYbFl2txUL6unC6A', 'vVqxGrqt5ALxQjJGnntpKQ', '6LgTc7CZlXCd1Pxq3BiVcw', 'k3pHAEdDGC2tqHlrqXql4Q', 'OExxlOVjUIDh3TFjPzbSDA', 'lJ5YkS5fxC8dcSK4FPtyYQ', 'H1pzpBdffm4NUbBRP8KLDA']\n",
      "The result for user 122 is: ['cEX4Cw8q2ftBrbpCvInf0w', 'BYwoAKKtdSeylSN7QV8oNw', 'rz8khUD2Amv1lBoIiwpEWw', 'CfFGKTJ1RgdTYpY0fj1E5w', 'CTYFfHq1SWFyCeJ-KyIgOQ', '_HMiq7vSET4uhNScBdOJnw', 'lycfBKtcR7keDQQOeMMsoA', '3vr42-TF3V31LrN5sAFbDQ', 'VZcs1K7A31sNQurNXs9gaQ', 'YzYNEpi9JU34yJRqCxb9ag']\n",
      "The result for user 123 is: ['4xrZmZJGrLY2kHL2ylM1uQ', 'ukt4MFLf8IpsI420CJCMkA', 'ul_m-XnIMAmddgqOpv5-aQ', 'n5vQCdHfl2Dm7r4l5FW8Cw', 'bjL1PC2e9dvjBVewmoXYwQ', '_HMiq7vSET4uhNScBdOJnw', 'j02fdPWz9L-et3yjzHnhuw', 'CHSOxwAtWXl4I2kvBT-sng', 'g_oK5K039p7OVy43FSg-ug', 'kDlakqhueliPOad3CDNE_A']\n",
      "The result for user 124 is: ['7LFdimtQU3yrgiKyE53klQ', 'VZcs1K7A31sNQurNXs9gaQ', 'OGIf_bb_QFY7hbYy4AlT0g', 'J3ijSN86u_Pg42BZjkDM_g', 'Rl318hUrGlkPJhMmNNZizQ', 'vVqxGrqt5ALxQjJGnntpKQ', 'ZhJ59SFPifQiTW0gAddfGw', 'tDGDMePyQvBBn416-1SEMA', 'at7wfECnjgIJi5o7gL8fyQ', 'fqhahiKsc6gPs5Sx4mf9Vg']\n",
      "The result for user 125 is: ['WFtN3VJ4Tft0hQHl6NZaAA', 'xpHn6SAJ3xqJGgzZTASrSg', 'MvdRWrf33EkVW-2dzTuNyg', 'CTYFfHq1SWFyCeJ-KyIgOQ', '0W5UWAcjwGuCJOv8rXGMqw', 'Zz8xPKC4RDGJCB49R_w9hQ', 'NbQH02mMYJ4r1RqvG2FDBA', 'gCTgjlUH5JQk0r-RZ7Gg_Q', '2tGFUtUrE0DhwlX59pbArA', 'IC15vAUX4EiMlWxxMehohw']\n",
      "The result for user 126 is: ['J3ijSN86u_Pg42BZjkDM_g', '9gkO3xa7P3U4aLdg3hws6g', 'sxQdEEfKRviWRymOoH9UiA', '6LgTc7CZlXCd1Pxq3BiVcw', 'ymAw53bQVppVV7T40fNgRw', 'Yp3CLIf55i9sY7tVAO6a3Q', 'pJWufKPuAuRFUyky_LeUMg', 'lE9qVePgvolkhw6C3Cdkeg', 'dFYfZsc-SUwRpDEgJiIoXA', 'f0XsCt81O34aR6BEo7GyQg']\n",
      "The result for user 127 is: ['uQu5DtnXZZ8XVfBKldKnag', 'ZhJ59SFPifQiTW0gAddfGw', 'lJ5YkS5fxC8dcSK4FPtyYQ', 'wVwShEOsjRyN4W6CXduAlQ', 'Rl318hUrGlkPJhMmNNZizQ', 'DHtvncPCxHKnuMgobG4inw', '6LgTc7CZlXCd1Pxq3BiVcw', 'x0Pk5Uvy0y63FSzcfmxRpQ', 'EqdAzi9c5xuhxN9brmEaZw', 'whhHjlFGo7B0ZeBS1jiLag']\n",
      "The result for user 128 is: ['pJWufKPuAuRFUyky_LeUMg', 'U3i7AaegudvpmDL23_wEmQ', 'BYwoAKKtdSeylSN7QV8oNw', 'XLa3iW4hkLyImtZAx61lSg', 'tRPHSd0ow1hsqMRxyMePeg', 'EJNkmXMDWurCPjOZe_WXAg', 'i5dxKKLe2kJ8WbPUXilPGg', '_HMiq7vSET4uhNScBdOJnw', 'z3zGql0n8YV9HCtUu6Be2w', 'ib_206uhcdzV7lNcCpniXA']\n",
      "The result for user 129 is: ['ZhJ59SFPifQiTW0gAddfGw', 'NbNk81ze4wftHA9hoXik7A', 'DHtvncPCxHKnuMgobG4inw', '7gpa5X8YUlebQH7NiNkHbg', 'r1W_Co451x1A1GCMkukMNw', '8F-sFWDWTnJlZz4SOum5aA', '3n_2L-oqqw6noFKsb3qmeg', 'V9Yl-VFF1a_LbFi8hwi33Q', 'vZiWYH4XIiy3fqPNy615Kg', 'zV9vGjToUEEUXim9lgSQnQ']\n",
      "The result for user 130 is: ['ib_206uhcdzV7lNcCpniXA', 'pKrcWHvmxT2pIAhInIUj3w', 'xD3L3JhNxsAfQikOHWHa4w', 'BfGgttAzEPx9v7b8Sgkedw', 'ZSpfF89JnQN6fiS8OhBlZQ', 'EECw-s6Jy-fyJHhkUGQhHg', '_HMiq7vSET4uhNScBdOJnw', 'ymAw53bQVppVV7T40fNgRw', 'LFknVw6uTIaL-MY_RqkN7g', 'l5lEOq47ne-jWKl67VKwZA']\n",
      "The result for user 131 is: ['vZiWYH4XIiy3fqPNy615Kg', 'XuxzGu2PEr59drHseZOVCg', 'hSEGyy0-i1_ZXGIRySbgcg', 'U3i7AaegudvpmDL23_wEmQ', 'pKNDz1tzC5llbengNUz_7w', 'OwgjWbW9NaTYRax_0Rb9lQ', 'K0jxSR_b1Bm4vmjCeSx9qA', 'ADtSvzL_abKwWPM1EL2yJw', 'HALtXIDS54MBLYD3VRyJ8A', 'YzYNEpi9JU34yJRqCxb9ag']\n",
      "The result for user 132 is: ['vVqxGrqt5ALxQjJGnntpKQ', '_7nMWBmfFvk9S3tKG3Ip_g', 'J9rMt_V1NX49rU3YUjh_7Q', '-U4BnQL4VC3dkRDUZL0i8Q', '0UVlw30JrYGl79rT0XIEmw', 'txwpCDw5Utu9WbM0VtYJqg', 'Xtr2M_mh9_jOkmpNd_CSCA', 'BYwoAKKtdSeylSN7QV8oNw', 'i5dxKKLe2kJ8WbPUXilPGg', '9R5laAm5Kv4aBLVtH1gVnA']\n",
      "The result for user 133 is: ['_HMiq7vSET4uhNScBdOJnw', 'LFknVw6uTIaL-MY_RqkN7g', '3vr42-TF3V31LrN5sAFbDQ', '7LFdimtQU3yrgiKyE53klQ', 'VEy3-SnvsKgWfGM_b2irbA', 'Rwzp59f3Ia-v2V8Ku0zZWQ', 'x44o1_Dw4QsQZRtBJgwZaA', 'txwpCDw5Utu9WbM0VtYJqg', 'imXbGrnZLLmuBCdor4LjTA', 'avrJOt2Kzk7fUpe4D4_DAQ']\n",
      "The result for user 134 is: ['i5dxKKLe2kJ8WbPUXilPGg', 'J9rMt_V1NX49rU3YUjh_7Q', 'U3i7AaegudvpmDL23_wEmQ', 'HALtXIDS54MBLYD3VRyJ8A', 'SNO_rcpzRL8b2EB9QuntTQ', 'pKrcWHvmxT2pIAhInIUj3w', 'pnjp8dim5eVWHIX7oYnEbQ', 'LFknVw6uTIaL-MY_RqkN7g', '6xx2FpMxjwabEHz_t2MiZg', 'Rl318hUrGlkPJhMmNNZizQ']\n",
      "The result for user 135 is: ['-WRbjOIgvQQ3jlJnvKUBNA', 'NbQH02mMYJ4r1RqvG2FDBA', 'Pv0P0vYFIOlMPPfn18Wc7Q', '7LFdimtQU3yrgiKyE53klQ', 'U3i7AaegudvpmDL23_wEmQ', 'UPRFpMsB4I64GRjUqjRmiw', 'fY1IkBnRft1KR0O2tqu7pg', 'ZSpfF89JnQN6fiS8OhBlZQ', 'XuxzGu2PEr59drHseZOVCg', 'dFYfZsc-SUwRpDEgJiIoXA']\n",
      "The result for user 136 is: ['_HMiq7vSET4uhNScBdOJnw', 'kA5pZz-koXIlPaDJALDroQ', 'vZiWYH4XIiy3fqPNy615Kg', 'OExxlOVjUIDh3TFjPzbSDA', 'LFknVw6uTIaL-MY_RqkN7g', 'dUUJ2-v8Vltv4FkUB55bog', 't4Ep18Iylp0bOAgsCxZpOw', 'VEy3-SnvsKgWfGM_b2irbA', 'x44o1_Dw4QsQZRtBJgwZaA', 'MPzZuWpKpeLBa833zzL9IQ']\n",
      "The result for user 137 is: ['xD3L3JhNxsAfQikOHWHa4w', 'XAMUaVFO2y5Vf1Uz_rYA1Q', 'EJNkmXMDWurCPjOZe_WXAg', 'x44o1_Dw4QsQZRtBJgwZaA', 'JG3Yw6z48y6Eyi0DnN19tQ', '_HMiq7vSET4uhNScBdOJnw', '2JFWJDNeLZN3dbTXs8kNMQ', 'WlT8rU9YYRjGSG-gX_hnCg', 'ib_206uhcdzV7lNcCpniXA', 'rAy5tizRpmTpZBg_0aTlKg']\n",
      "The result for user 138 is: ['lE9qVePgvolkhw6C3Cdkeg', '_HMiq7vSET4uhNScBdOJnw', 'Rwzp59f3Ia-v2V8Ku0zZWQ', 'J1ROdxjb_A27axMgigweEg', 'pKrcWHvmxT2pIAhInIUj3w', 'vVqxGrqt5ALxQjJGnntpKQ', 'pJWufKPuAuRFUyky_LeUMg', '6xx2FpMxjwabEHz_t2MiZg', 'EJNkmXMDWurCPjOZe_WXAg', 'P-X4kr5pDqXzhPEfa6RsTQ']\n",
      "The result for user 139 is: ['7LFdimtQU3yrgiKyE53klQ', 'ib_206uhcdzV7lNcCpniXA', 'T7ekp7FiffoWDq53hbZDhg', 'JHi4LCxdbpXthg98sQiicQ', 'ZhJ59SFPifQiTW0gAddfGw', 'ko4q1Oj4iWvYSxoamlcEgw', 'LFknVw6uTIaL-MY_RqkN7g', 'NbQH02mMYJ4r1RqvG2FDBA', 'kA5pZz-koXIlPaDJALDroQ', 'SNO_rcpzRL8b2EB9QuntTQ']\n",
      "The result for user 140 is: ['eNuJkqMjbGRbY-T01JsTXA', '4l9M9C96HW6JpwrQPJGMNQ', '6LgTc7CZlXCd1Pxq3BiVcw', 'bjL1PC2e9dvjBVewmoXYwQ', 'ib_206uhcdzV7lNcCpniXA', 'hinGqQYvot8HtRYxSdr6FA', 'lJ5YkS5fxC8dcSK4FPtyYQ', 'Pv0P0vYFIOlMPPfn18Wc7Q', 'MPzZuWpKpeLBa833zzL9IQ', 'zXN549bIpggs4ZqTS4u_Dw']\n",
      "The result for user 141 is: ['PiHPVBDkXTXaJtrrnJt9QQ', '0UVlw30JrYGl79rT0XIEmw', '5RFNZZvtfF9uHVSUeYwzbQ', 'M3L6py5NM0_WjIT7410M0Q', 'hSEGyy0-i1_ZXGIRySbgcg', 'BYwoAKKtdSeylSN7QV8oNw', 'x0Pk5Uvy0y63FSzcfmxRpQ', 'J9rMt_V1NX49rU3YUjh_7Q', 'Lv5GFFciSK532QIX2ZLqjg', '3hxwHzQ432UL3rQAWJG5TA']\n",
      "The result for user 142 is: ['MuaIn9h_YOAmZxHxtQXAAw', '7LFdimtQU3yrgiKyE53klQ', 'idWK9PJCzUMtNmZrg266KA', 'CTYFfHq1SWFyCeJ-KyIgOQ', 'VEy3-SnvsKgWfGM_b2irbA', '5LMkTnMXOxlce_LwUNhpCQ', '71aipxvzUEEAd245w61o7A', 'lycfBKtcR7keDQQOeMMsoA', 'cEX4Cw8q2ftBrbpCvInf0w', 'Lv5GFFciSK532QIX2ZLqjg']\n",
      "The result for user 143 is: ['uQu5DtnXZZ8XVfBKldKnag', 'lE9qVePgvolkhw6C3Cdkeg', '0W5UWAcjwGuCJOv8rXGMqw', 'x44o1_Dw4QsQZRtBJgwZaA', 'I1wArJIYbFl2txUL6unC6A', 'JHi4LCxdbpXthg98sQiicQ', 'GBU-qhVsFCFtwnMkQb3Vdg', '-WRbjOIgvQQ3jlJnvKUBNA', '0hGE_UiUMAcF3PABcE-M4Q', 'zArg-PsglebVBJMyjxfacw']\n",
      "The result for user 144 is: ['_HMiq7vSET4uhNScBdOJnw', 't4Ep18Iylp0bOAgsCxZpOw', 'mnaTW8Wm0ESJXf4qqDtS9A', 'tDGDMePyQvBBn416-1SEMA', 'ukt4MFLf8IpsI420CJCMkA', 'sxQdEEfKRviWRymOoH9UiA', '8F-sFWDWTnJlZz4SOum5aA', '2JFWJDNeLZN3dbTXs8kNMQ', 'MPzZuWpKpeLBa833zzL9IQ', 'o1_iIC0rU2yuF3SZvf6IjA']\n",
      "The result for user 145 is: ['BYwoAKKtdSeylSN7QV8oNw', 'sxQdEEfKRviWRymOoH9UiA', 'YzYNEpi9JU34yJRqCxb9ag', 'qs6gA9Y5sRzpXnm_4QaP0Q', 'Zztv1vtQ2AjOSUc_12-2pQ', 'tDGDMePyQvBBn416-1SEMA', 'l5lEOq47ne-jWKl67VKwZA', 'OGIf_bb_QFY7hbYy4AlT0g', '7LFdimtQU3yrgiKyE53klQ', 'NbQH02mMYJ4r1RqvG2FDBA']\n",
      "The result for user 146 is: ['97DdiERj19Fuk5CRpHl0Hg', 'ZhJ59SFPifQiTW0gAddfGw', 'Rl318hUrGlkPJhMmNNZizQ', 'LFknVw6uTIaL-MY_RqkN7g', 'Lv5GFFciSK532QIX2ZLqjg', 'aFiCaAyKxBB6PI3hyV3cRQ', 'J9rMt_V1NX49rU3YUjh_7Q', 'JHi4LCxdbpXthg98sQiicQ', 'U3i7AaegudvpmDL23_wEmQ', 'CdAmgWWCabZQoYNNWOKcEw']\n",
      "The result for user 147 is: ['7LFdimtQU3yrgiKyE53klQ', 'ko4q1Oj4iWvYSxoamlcEgw', 'LFknVw6uTIaL-MY_RqkN7g', 'ib_206uhcdzV7lNcCpniXA', 'bjL1PC2e9dvjBVewmoXYwQ', 'i5dxKKLe2kJ8WbPUXilPGg', 't88UJ1i5c2HxbWQTV440mg', 'new3Ny6i5ZJVn3m-i4A2Tg', 'sxQdEEfKRviWRymOoH9UiA', '2JFWJDNeLZN3dbTXs8kNMQ']\n",
      "The result for user 148 is: ['sxQdEEfKRviWRymOoH9UiA', 'Rwzp59f3Ia-v2V8Ku0zZWQ', 'ymAw53bQVppVV7T40fNgRw', 'Zztv1vtQ2AjOSUc_12-2pQ', '5RFNZZvtfF9uHVSUeYwzbQ', 'l5lEOq47ne-jWKl67VKwZA', 'BYwoAKKtdSeylSN7QV8oNw', 'KPrdWch1680ihzVe3C-s3w', 'jrri7I3ZscmfRLEeIc0UXg', 'vZiWYH4XIiy3fqPNy615Kg']\n",
      "The result for user 149 is: ['XuxzGu2PEr59drHseZOVCg', 'Lv5GFFciSK532QIX2ZLqjg', 'mlnucLO7hYxKoH77FEHh2g', 'bjL1PC2e9dvjBVewmoXYwQ', 'wyDfBs1tYSIiBO7HCPKNTg', 'fY1IkBnRft1KR0O2tqu7pg', 'r1W_Co451x1A1GCMkukMNw', 'ADtSvzL_abKwWPM1EL2yJw', '3hxwHzQ432UL3rQAWJG5TA', '4EQ8eJ3nOgLfbXeMqfeyWg']\n",
      "The result for user 150 is: ['dFYfZsc-SUwRpDEgJiIoXA', 'fY1IkBnRft1KR0O2tqu7pg', 'XuxzGu2PEr59drHseZOVCg', 'hSEGyy0-i1_ZXGIRySbgcg', '_9F5ZZvXru0UgZ3MsAX8fQ', 'U3i7AaegudvpmDL23_wEmQ', 'g_oK5K039p7OVy43FSg-ug', 'NAsglQPCdPMJV_RkHge27A', 'vZiWYH4XIiy3fqPNy615Kg', 'zJAYcuMrgSBRjrSaxawLcw']\n",
      "The result for user 151 is: ['NbQH02mMYJ4r1RqvG2FDBA', 'tDGDMePyQvBBn416-1SEMA', '_7nMWBmfFvk9S3tKG3Ip_g', 'vVqxGrqt5ALxQjJGnntpKQ', 'LFknVw6uTIaL-MY_RqkN7g', 'j_aIYB4uGOR45jAXivFNZQ', 'BYwoAKKtdSeylSN7QV8oNw', 'Pv0P0vYFIOlMPPfn18Wc7Q', 'x0Pk5Uvy0y63FSzcfmxRpQ', 'txwpCDw5Utu9WbM0VtYJqg']\n",
      "The result for user 152 is: ['MuaIn9h_YOAmZxHxtQXAAw', 'Rwzp59f3Ia-v2V8Ku0zZWQ', 'xAJfM-dMPOHFH35Adgi10w', 'JHi4LCxdbpXthg98sQiicQ', 'BYwoAKKtdSeylSN7QV8oNw', '_HMiq7vSET4uhNScBdOJnw', 'EGoCGAhJMivxr_C7H0hoKw', '6xx2FpMxjwabEHz_t2MiZg', 'wyDfBs1tYSIiBO7HCPKNTg', 'aYdHn3OiBekxS3MUXIc59Q']\n",
      "The result for user 153 is: ['at7wfECnjgIJi5o7gL8fyQ', '5RFNZZvtfF9uHVSUeYwzbQ', 'Rwzp59f3Ia-v2V8Ku0zZWQ', '3vr42-TF3V31LrN5sAFbDQ', '5p2AWrPlYJM5hh54HcyA3g', '0UVlw30JrYGl79rT0XIEmw', 'i5dxKKLe2kJ8WbPUXilPGg', '-U4BnQL4VC3dkRDUZL0i8Q', 'DbvK2HkM-wxbEQxlmczAlQ', 'tq03doSUN1Hpd2zmNAMRCQ']\n",
      "The result for user 154 is: ['TzKx4KbFOzLX0v7F31cSpw', 'j02fdPWz9L-et3yjzHnhuw', 'UGidvGF4aXsl7aVvPLmO4Q', 'bjL1PC2e9dvjBVewmoXYwQ', 'vVqxGrqt5ALxQjJGnntpKQ', 'J9rMt_V1NX49rU3YUjh_7Q', '0UVlw30JrYGl79rT0XIEmw', '0OxNWfWooOChGVdRmCm9JQ', '4EQ8eJ3nOgLfbXeMqfeyWg', 'EECw-s6Jy-fyJHhkUGQhHg']\n",
      "The result for user 155 is: ['gzBoOo4E1ornEHYod52uew', 'yUEReMN5fFo8qO2ZSMI3OQ', 'n5vQCdHfl2Dm7r4l5FW8Cw', 'l5lEOq47ne-jWKl67VKwZA', 'qrXp3u2-nWkor07Vvctz9w', 'IC15vAUX4EiMlWxxMehohw', 'yX5_fmZ_tdS-20v3w-ltZw', 'z4qzeRcds-nntmWlJ8K6RA', '1AEbuCjMRS18fhpXAQozTQ', '2JFWJDNeLZN3dbTXs8kNMQ']\n",
      "The result for user 156 is: ['Zz8xPKC4RDGJCB49R_w9hQ', '7LFdimtQU3yrgiKyE53klQ', 'UPRFpMsB4I64GRjUqjRmiw', 'ko4q1Oj4iWvYSxoamlcEgw', 'P7-GGakh0UR80xIl93t07Q', 'ttrvimStR7jPxp9zP7c5dw', 'ZhJ59SFPifQiTW0gAddfGw', 'TzKx4KbFOzLX0v7F31cSpw', 'x44o1_Dw4QsQZRtBJgwZaA', 'kreVrwY9zqfQVFbF-CP_Gg']\n",
      "The result for user 157 is: ['hSEGyy0-i1_ZXGIRySbgcg', 'NbQH02mMYJ4r1RqvG2FDBA', '0UVlw30JrYGl79rT0XIEmw', 'CdAmgWWCabZQoYNNWOKcEw', 'U3i7AaegudvpmDL23_wEmQ', 'rz8khUD2Amv1lBoIiwpEWw', '0W5UWAcjwGuCJOv8rXGMqw', 'ukt4MFLf8IpsI420CJCMkA', 'DbvK2HkM-wxbEQxlmczAlQ', 'WFtN3VJ4Tft0hQHl6NZaAA']\n",
      "The result for user 158 is: ['ZhJ59SFPifQiTW0gAddfGw', 'KPrdWch1680ihzVe3C-s3w', '7LFdimtQU3yrgiKyE53klQ', 'dFYfZsc-SUwRpDEgJiIoXA', 'ZSpfF89JnQN6fiS8OhBlZQ', '6LgTc7CZlXCd1Pxq3BiVcw', 'sxQdEEfKRviWRymOoH9UiA', 'l5lEOq47ne-jWKl67VKwZA', 'hSEGyy0-i1_ZXGIRySbgcg', '9R5laAm5Kv4aBLVtH1gVnA']\n",
      "The result for user 159 is: ['ib_206uhcdzV7lNcCpniXA', 'AQEEH7JP1DFrvFuMi6TP2Q', '2FLfIQ9u3PJKg2iLhkl91A', 'pKrcWHvmxT2pIAhInIUj3w', 'ZhJ59SFPifQiTW0gAddfGw', 'zo92mzQ7NBlazYi1F0KHMw', 'l5lEOq47ne-jWKl67VKwZA', 'LFknVw6uTIaL-MY_RqkN7g', 'NbQH02mMYJ4r1RqvG2FDBA', 'KPrdWch1680ihzVe3C-s3w']\n",
      "The result for user 160 is: ['71aipxvzUEEAd245w61o7A', 'x0Pk5Uvy0y63FSzcfmxRpQ', '7LFdimtQU3yrgiKyE53klQ', 'n5vQCdHfl2Dm7r4l5FW8Cw', 'hfP5UJGaCQBEaBx-uabkDA', 'YL9NENDJeMAqxT8sI3_PZg', 'XuxzGu2PEr59drHseZOVCg', 'UPRFpMsB4I64GRjUqjRmiw', 'k9w2tAgGlD-lwQue7KP5qA', 'J3ijSN86u_Pg42BZjkDM_g']\n",
      "The result for user 161 is: ['-WRbjOIgvQQ3jlJnvKUBNA', 'AQEEH7JP1DFrvFuMi6TP2Q', 'ALNmvpU7JN_tOCD653vVWA', 'rz8khUD2Amv1lBoIiwpEWw', 'xD3L3JhNxsAfQikOHWHa4w', 'j02fdPWz9L-et3yjzHnhuw', 'l5lEOq47ne-jWKl67VKwZA', '6LgTc7CZlXCd1Pxq3BiVcw', 'CvS3MUQVNSRk-RCL5Iwwug', 'rXhvV-YyZaJLjgOnz7_jkA']\n",
      "The result for user 162 is: ['xD3L3JhNxsAfQikOHWHa4w', 'jLcBOqa-UT6qugFgZqjNvA', 'LFknVw6uTIaL-MY_RqkN7g', 'Pv0P0vYFIOlMPPfn18Wc7Q', '7LFdimtQU3yrgiKyE53klQ', 'NbQH02mMYJ4r1RqvG2FDBA', '-WRbjOIgvQQ3jlJnvKUBNA', 'J9rMt_V1NX49rU3YUjh_7Q', 'I1wArJIYbFl2txUL6unC6A', 'OExxlOVjUIDh3TFjPzbSDA']\n",
      "The result for user 163 is: ['7LFdimtQU3yrgiKyE53klQ', 'MfaSpGas4-qV_v5hfIQ09g', '1nw-_Bm8sivTBZ7Z-uiVCA', 'hinGqQYvot8HtRYxSdr6FA', 'Bf5g9rQo8G1e_4Eu4diZJQ', 'l5lEOq47ne-jWKl67VKwZA', 'bjL1PC2e9dvjBVewmoXYwQ', 'DDd3TW3lDvQduqmw-UkrUg', 'YzYNEpi9JU34yJRqCxb9ag', '6LgTc7CZlXCd1Pxq3BiVcw']\n",
      "The result for user 164 is: ['NbQH02mMYJ4r1RqvG2FDBA', 'J3ijSN86u_Pg42BZjkDM_g', 'ib_206uhcdzV7lNcCpniXA', 'VZcs1K7A31sNQurNXs9gaQ', 'hSEGyy0-i1_ZXGIRySbgcg', 'AQEEH7JP1DFrvFuMi6TP2Q', 'ADtSvzL_abKwWPM1EL2yJw', 'CHSOxwAtWXl4I2kvBT-sng', 'l5lEOq47ne-jWKl67VKwZA', '5RFNZZvtfF9uHVSUeYwzbQ']\n",
      "The result for user 165 is: ['txwpCDw5Utu9WbM0VtYJqg', '6LgTc7CZlXCd1Pxq3BiVcw', 'LFknVw6uTIaL-MY_RqkN7g', 'O79uzVop5yqobf3bdjZzQg', 'Yp3CLIf55i9sY7tVAO6a3Q', 'tDGDMePyQvBBn416-1SEMA', 'ZhJ59SFPifQiTW0gAddfGw', 'hSEGyy0-i1_ZXGIRySbgcg', 'NbQH02mMYJ4r1RqvG2FDBA', 'eNuJkqMjbGRbY-T01JsTXA']\n",
      "The result for user 166 is: ['vVqxGrqt5ALxQjJGnntpKQ', 'Rl318hUrGlkPJhMmNNZizQ', 'meUD8jqkG4uy0ERdqcZI6g', 'Yp3CLIf55i9sY7tVAO6a3Q', 'bjL1PC2e9dvjBVewmoXYwQ', 'Rwzp59f3Ia-v2V8Ku0zZWQ', 'rAy5tizRpmTpZBg_0aTlKg', 'J9rMt_V1NX49rU3YUjh_7Q', 'vZiWYH4XIiy3fqPNy615Kg', 'dFYfZsc-SUwRpDEgJiIoXA']\n",
      "The result for user 167 is: ['CfFGKTJ1RgdTYpY0fj1E5w', 'Zztv1vtQ2AjOSUc_12-2pQ', 'J9rMt_V1NX49rU3YUjh_7Q', 'ib_206uhcdzV7lNcCpniXA', '9R5laAm5Kv4aBLVtH1gVnA', 'xD3L3JhNxsAfQikOHWHa4w', 'lJ5YkS5fxC8dcSK4FPtyYQ', 'I1wArJIYbFl2txUL6unC6A', 'QxT3goSTkSGWqq4ecId_AQ', 'nPZFnpfXDs4_YI47UMtfoA']\n",
      "The result for user 168 is: ['LFknVw6uTIaL-MY_RqkN7g', 'NbQH02mMYJ4r1RqvG2FDBA', 'at7wfECnjgIJi5o7gL8fyQ', 'Rwzp59f3Ia-v2V8Ku0zZWQ', '_7nMWBmfFvk9S3tKG3Ip_g', 'iYPL0oePzFohBQexVaxT-g', 'kA5pZz-koXIlPaDJALDroQ', 'P-X4kr5pDqXzhPEfa6RsTQ', 'J9rMt_V1NX49rU3YUjh_7Q', '_HMiq7vSET4uhNScBdOJnw']\n",
      "The result for user 169 is: ['NAsglQPCdPMJV_RkHge27A', 'Xtr2M_mh9_jOkmpNd_CSCA', '2FLfIQ9u3PJKg2iLhkl91A', 'cN6rvvAXX7gwxbAJdazw8g', 'Eo6RtLvIXcgSge6Z4Z6fFQ', 'n2CnBRKK82cWZ9a2OjS2xQ', 'EECw-s6Jy-fyJHhkUGQhHg', 'T434Tkz_mnF74J-55Z7PKA', '9gkO3xa7P3U4aLdg3hws6g', 'CQHvMtBNUWzGhNkCjbUNXQ']\n",
      "The result for user 170 is: ['lgfG_hQos2l6TSku7ThJIA', 'Zztv1vtQ2AjOSUc_12-2pQ', 'ZhJ59SFPifQiTW0gAddfGw', 'O9bHfze9mllbK8FeGKcnSA', 'at7wfECnjgIJi5o7gL8fyQ', '9xcuQh3hNzQ4HCUgGGyMnQ', 'S47RIadQQrzAFRXo0XPd5w', 'NbQH02mMYJ4r1RqvG2FDBA', 'qFRLMar47LgRz39U7grrJQ', 'BFT_7kFOCq8FjoINnxycLQ']\n",
      "The result for user 171 is: ['_HMiq7vSET4uhNScBdOJnw', 'ZSpfF89JnQN6fiS8OhBlZQ', 'jLcBOqa-UT6qugFgZqjNvA', 'n2CnBRKK82cWZ9a2OjS2xQ', 'XLa3iW4hkLyImtZAx61lSg', 'kA5pZz-koXIlPaDJALDroQ', 'AQEEH7JP1DFrvFuMi6TP2Q', '3vr42-TF3V31LrN5sAFbDQ', 'pnjp8dim5eVWHIX7oYnEbQ', 'I1wArJIYbFl2txUL6unC6A']\n",
      "The result for user 172 is: ['4l9M9C96HW6JpwrQPJGMNQ', 'Lv5GFFciSK532QIX2ZLqjg', '1AEbuCjMRS18fhpXAQozTQ', 'l5lEOq47ne-jWKl67VKwZA', 'pKNDz1tzC5llbengNUz_7w', 'CdAmgWWCabZQoYNNWOKcEw', 'ADtSvzL_abKwWPM1EL2yJw', '71aipxvzUEEAd245w61o7A', 'ALNmvpU7JN_tOCD653vVWA', 'vB_TQ2wQHloXS4qyu47AqQ']\n",
      "The result for user 173 is: ['NbQH02mMYJ4r1RqvG2FDBA', 'Rwzp59f3Ia-v2V8Ku0zZWQ', 'ntZbvL1jbr6Cj_mP6K14Lw', 'EJNkmXMDWurCPjOZe_WXAg', 'BYwoAKKtdSeylSN7QV8oNw', '_HMiq7vSET4uhNScBdOJnw', 'vZiWYH4XIiy3fqPNy615Kg', 'ofSFeTi7PLWucCO9FqPREw', 'VWLfePKMEj7g2P77RvRDuA', 'ib_206uhcdzV7lNcCpniXA']\n",
      "The result for user 174 is: ['rAy5tizRpmTpZBg_0aTlKg', 'txwpCDw5Utu9WbM0VtYJqg', 'I1wArJIYbFl2txUL6unC6A', '6LgTc7CZlXCd1Pxq3BiVcw', 'g_oK5K039p7OVy43FSg-ug', 'dFYfZsc-SUwRpDEgJiIoXA', 'CdAmgWWCabZQoYNNWOKcEw', '7LFdimtQU3yrgiKyE53klQ', 'MqdAYfl1p_c1144i48k6jw', 'fY1IkBnRft1KR0O2tqu7pg']\n",
      "The result for user 175 is: ['x0Pk5Uvy0y63FSzcfmxRpQ', 'Egkl60a0DcH7n87Pr9neqg', '7LFdimtQU3yrgiKyE53klQ', 'ZhJ59SFPifQiTW0gAddfGw', 'EqdAzi9c5xuhxN9brmEaZw', 'rAmZbbHYehHOS4p4rkYWmg', 'mcFT96dzIsrtGdd9JNmIzw', 'Lv5GFFciSK532QIX2ZLqjg', 'o1_iIC0rU2yuF3SZvf6IjA', 'LFknVw6uTIaL-MY_RqkN7g']\n",
      "The result for user 176 is: ['xD3L3JhNxsAfQikOHWHa4w', 'ib_206uhcdzV7lNcCpniXA', '-WRbjOIgvQQ3jlJnvKUBNA', '6LgTc7CZlXCd1Pxq3BiVcw', '7LFdimtQU3yrgiKyE53klQ', 'mnaTW8Wm0ESJXf4qqDtS9A', 'jLcBOqa-UT6qugFgZqjNvA', 'NbQH02mMYJ4r1RqvG2FDBA', 'n2CnBRKK82cWZ9a2OjS2xQ', 'I1wArJIYbFl2txUL6unC6A']\n",
      "The result for user 177 is: ['_HMiq7vSET4uhNScBdOJnw', '_kuDz_Uf6JbARZEfNpkl8Q', 'vZiWYH4XIiy3fqPNy615Kg', 'P7-GGakh0UR80xIl93t07Q', 'lE9qVePgvolkhw6C3Cdkeg', 'tX5abErb5B7oKKlfZCOv0g', 'I1wArJIYbFl2txUL6unC6A', 'j02fdPWz9L-et3yjzHnhuw', 'XLa3iW4hkLyImtZAx61lSg', 'TzKx4KbFOzLX0v7F31cSpw']\n",
      "The result for user 178 is: ['I1wArJIYbFl2txUL6unC6A', 'LFknVw6uTIaL-MY_RqkN7g', 'U3i7AaegudvpmDL23_wEmQ', 'rz8khUD2Amv1lBoIiwpEWw', 'hSEGyy0-i1_ZXGIRySbgcg', 'NRrWbjN1X1X7Z1z_u5bFKQ', 'x44o1_Dw4QsQZRtBJgwZaA', 'vVqxGrqt5ALxQjJGnntpKQ', 'txwpCDw5Utu9WbM0VtYJqg', 'm37JoiIGlCRRfcnpYvHHkA']\n",
      "The result for user 179 is: ['vVqxGrqt5ALxQjJGnntpKQ', 'I1wArJIYbFl2txUL6unC6A', 'bjL1PC2e9dvjBVewmoXYwQ', 'ib_206uhcdzV7lNcCpniXA', 'i5dxKKLe2kJ8WbPUXilPGg', 'hSEGyy0-i1_ZXGIRySbgcg', 'x44o1_Dw4QsQZRtBJgwZaA', 'CvS3MUQVNSRk-RCL5Iwwug', 'ahlZC7XOKN-XJ7P4sPZrRg', 'CHSOxwAtWXl4I2kvBT-sng']\n",
      "The result for user 180 is: ['_kuDz_Uf6JbARZEfNpkl8Q', 'lE9qVePgvolkhw6C3Cdkeg', 'sxQdEEfKRviWRymOoH9UiA', '_e7yPjlgOAF7z8PssDamug', '_HMiq7vSET4uhNScBdOJnw', 'WlT8rU9YYRjGSG-gX_hnCg', '4y-hsrTMBKI0HVJdsVZU0A', 'l6nsLplDB-iesGzdG22-fw', 'Pv0P0vYFIOlMPPfn18Wc7Q', 'LFknVw6uTIaL-MY_RqkN7g']\n",
      "The result for user 181 is: ['I1wArJIYbFl2txUL6unC6A', 'LFknVw6uTIaL-MY_RqkN7g', 'EqdAzi9c5xuhxN9brmEaZw', 'ofSFeTi7PLWucCO9FqPREw', 'hinGqQYvot8HtRYxSdr6FA', 'vVqxGrqt5ALxQjJGnntpKQ', 'NbQH02mMYJ4r1RqvG2FDBA', 'QNnQ3W1gDQtG1C-LVmedKA', 'MqdAYfl1p_c1144i48k6jw', 'f0XsCt81O34aR6BEo7GyQg']\n",
      "The result for user 182 is: ['U3i7AaegudvpmDL23_wEmQ', 'at7wfECnjgIJi5o7gL8fyQ', 'Rl318hUrGlkPJhMmNNZizQ', 'Dn83poKTVhWL3ItLdalmYw', 'bjL1PC2e9dvjBVewmoXYwQ', 'YPbSFZSoIMuGu2LD6WPllQ', 'CdAmgWWCabZQoYNNWOKcEw', 'ymAw53bQVppVV7T40fNgRw', 'ADtSvzL_abKwWPM1EL2yJw', '-U4BnQL4VC3dkRDUZL0i8Q']\n",
      "The result for user 183 is: ['UPRFpMsB4I64GRjUqjRmiw', 'pKNDz1tzC5llbengNUz_7w', 'lnC_BiucMb6YJjm392nwAQ', 'sxQdEEfKRviWRymOoH9UiA', '4Xm4LZQjoavYm0Yjs1QgsQ', '1nw-_Bm8sivTBZ7Z-uiVCA', 'WFtN3VJ4Tft0hQHl6NZaAA', 'SPCdv--a6cnorGitNtbDIg', 'Xbd6RhIE2tbrKTCg-jqEcQ', 'CdAmgWWCabZQoYNNWOKcEw']\n",
      "The result for user 184 is: ['n2CnBRKK82cWZ9a2OjS2xQ', 'vVqxGrqt5ALxQjJGnntpKQ', 'Po0Qb6X_g8b00OggqtATRA', 'Z9oNUI_dlEKjhEWuG-hxPA', 'J9rMt_V1NX49rU3YUjh_7Q', 'z3zGql0n8YV9HCtUu6Be2w', 'AQEEH7JP1DFrvFuMi6TP2Q', 'XLa3iW4hkLyImtZAx61lSg', 'I1wArJIYbFl2txUL6unC6A', 'OuU88_AEU5lo-t_XQpTyKg']\n",
      "The result for user 185 is: ['MqdAYfl1p_c1144i48k6jw', 'new3Ny6i5ZJVn3m-i4A2Tg', 'TzKx4KbFOzLX0v7F31cSpw', 'NCwX8t4pHpcAMzSCaC2Hww', '9R5laAm5Kv4aBLVtH1gVnA', 'i5dxKKLe2kJ8WbPUXilPGg', '97DdiERj19Fuk5CRpHl0Hg', 'NMz0wMYMTnsyC_sulMLwlA', '2FLfIQ9u3PJKg2iLhkl91A', 'z3zGql0n8YV9HCtUu6Be2w']\n",
      "The result for user 186 is: ['J9rMt_V1NX49rU3YUjh_7Q', '_HMiq7vSET4uhNScBdOJnw', 'ahlZC7XOKN-XJ7P4sPZrRg', 'CHSOxwAtWXl4I2kvBT-sng', 'mnaTW8Wm0ESJXf4qqDtS9A', 'Zztv1vtQ2AjOSUc_12-2pQ', 'NbQH02mMYJ4r1RqvG2FDBA', 'qrXp3u2-nWkor07Vvctz9w', 'EGoCGAhJMivxr_C7H0hoKw', '7LFdimtQU3yrgiKyE53klQ']\n",
      "The result for user 187 is: ['r1W_Co451x1A1GCMkukMNw', 'i5dxKKLe2kJ8WbPUXilPGg', 'x44o1_Dw4QsQZRtBJgwZaA', '6LgTc7CZlXCd1Pxq3BiVcw', 'vVqxGrqt5ALxQjJGnntpKQ', 'fY1IkBnRft1KR0O2tqu7pg', 'Rl318hUrGlkPJhMmNNZizQ', 'Xj5dq-k2lWmA5IIqCJekUg', 'rNGedyXLJ2G0eLydk6NWnQ', 'lycfBKtcR7keDQQOeMMsoA']\n",
      "The result for user 188 is: ['nCwEzk4Z1lX5PvLEYpbBHw', '_7nMWBmfFvk9S3tKG3Ip_g', 'e7Yr0xwLi73tP2aQ2PjA_w', '_HMiq7vSET4uhNScBdOJnw', 'DDd3TW3lDvQduqmw-UkrUg', 'Rl318hUrGlkPJhMmNNZizQ', 'wyDfBs1tYSIiBO7HCPKNTg', '2JFWJDNeLZN3dbTXs8kNMQ', 'uGBoSelK57ybEnJewusucw', 'sanSmPfwkuC_zOlWCCQ3Jw']\n",
      "The result for user 189 is: ['LFknVw6uTIaL-MY_RqkN7g', '6xx2FpMxjwabEHz_t2MiZg', 'J9rMt_V1NX49rU3YUjh_7Q', '_HMiq7vSET4uhNScBdOJnw', 'at7wfECnjgIJi5o7gL8fyQ', '0W5UWAcjwGuCJOv8rXGMqw', 'ahlZC7XOKN-XJ7P4sPZrRg', 'ib_206uhcdzV7lNcCpniXA', 'ADtSvzL_abKwWPM1EL2yJw', 'xD3L3JhNxsAfQikOHWHa4w']\n",
      "The result for user 190 is: ['U3i7AaegudvpmDL23_wEmQ', 'gzBoOo4E1ornEHYod52uew', 'K0jxSR_b1Bm4vmjCeSx9qA', 'iNVn7TsdKzgrYfRWmWTQOg', '1AEbuCjMRS18fhpXAQozTQ', 'r1W_Co451x1A1GCMkukMNw', 'imXbGrnZLLmuBCdor4LjTA', '0UVlw30JrYGl79rT0XIEmw', 'kDlakqhueliPOad3CDNE_A', 'UDXIJd-jPiVXp2ZoQwJt8g']\n",
      "The result for user 191 is: ['-U4BnQL4VC3dkRDUZL0i8Q', 'z3zGql0n8YV9HCtUu6Be2w', 'KX5KY8fLlMoJMS1NAj0Pvw', 'J9rMt_V1NX49rU3YUjh_7Q', 'hinGqQYvot8HtRYxSdr6FA', 'mcFT96dzIsrtGdd9JNmIzw', 'Xtr2M_mh9_jOkmpNd_CSCA', '0e30ReHOmL2GzY_3hEy_Ig', '_HMiq7vSET4uhNScBdOJnw', 'BeZMzvfxRWy-oqA_bX8xog']\n",
      "The result for user 192 is: ['_HMiq7vSET4uhNScBdOJnw', 'NbQH02mMYJ4r1RqvG2FDBA', '0UVlw30JrYGl79rT0XIEmw', 'vZiWYH4XIiy3fqPNy615Kg', 'Rl318hUrGlkPJhMmNNZizQ', 'CdAmgWWCabZQoYNNWOKcEw', 'M-PobdAR2gJhPyLR_WzMCQ', '3hxwHzQ432UL3rQAWJG5TA', 'LFknVw6uTIaL-MY_RqkN7g', 'ADtSvzL_abKwWPM1EL2yJw']\n",
      "The result for user 193 is: ['NbQH02mMYJ4r1RqvG2FDBA', 'hSEGyy0-i1_ZXGIRySbgcg', 'DDd3TW3lDvQduqmw-UkrUg', '7LFdimtQU3yrgiKyE53klQ', 'pKNDz1tzC5llbengNUz_7w', 'fY1IkBnRft1KR0O2tqu7pg', 'dFYfZsc-SUwRpDEgJiIoXA', 'W0tm6RbkMynp-h4Vtb0QmA', 'at7wfECnjgIJi5o7gL8fyQ', '0UVlw30JrYGl79rT0XIEmw']\n",
      "The result for user 194 is: ['bjL1PC2e9dvjBVewmoXYwQ', 'MfspClBaUOwUwj7BBf3xSw', 'hSEGyy0-i1_ZXGIRySbgcg', 'lJ5YkS5fxC8dcSK4FPtyYQ', 'J9rMt_V1NX49rU3YUjh_7Q', 'GGMka0ITgk7w_YUHUo8gqg', 'Jq-xqPURnnwbgUsA3TpOHw', 'Vj7MfTSGixoo3f7wzXvA9A', 'f6SN9YUSpb9AjS4hnFgyxg', 'ib_206uhcdzV7lNcCpniXA']\n",
      "The result for user 195 is: ['x0Pk5Uvy0y63FSzcfmxRpQ', 'fY1IkBnRft1KR0O2tqu7pg', 'avrJOt2Kzk7fUpe4D4_DAQ', '_7nMWBmfFvk9S3tKG3Ip_g', 'Ah9S8sO0nLAYS8tXWd3jsA', 'J9rMt_V1NX49rU3YUjh_7Q', 'RYMHJdm0BLBFJTnp6D4T4g', 'i5dxKKLe2kJ8WbPUXilPGg', 'j_aIYB4uGOR45jAXivFNZQ', 'UPRFpMsB4I64GRjUqjRmiw']\n",
      "The result for user 196 is: ['Yf4RhB-uTRcZc3l-1icBmw', '4ZOXsBhHx2EzrTwACILK2A', '2JFWJDNeLZN3dbTXs8kNMQ', 'TzKx4KbFOzLX0v7F31cSpw', 'JG3Yw6z48y6Eyi0DnN19tQ', 'NAsglQPCdPMJV_RkHge27A', '5RFNZZvtfF9uHVSUeYwzbQ', 'ib_206uhcdzV7lNcCpniXA', '-ZfmnKxPnKlSDvLuUY56-A', '7LFdimtQU3yrgiKyE53klQ']\n"
     ]
    }
   ],
   "source": [
    "\n",
    "if __name__ == \"__main__\":\n",
    "        for i, result in enumerate(results):\n",
    "            restaurant_names = [restaurant_set[idx] for idx in result]\n",
    "            print(f\"The result for user {i} is: {restaurant_names}\")\n"
   ]
  },
  {
   "cell_type": "code",
   "execution_count": 28,
   "metadata": {},
   "outputs": [
    {
     "name": "stdout",
     "output_type": "stream",
     "text": [
      "\n",
      "Results saved to: ./result/results.csv\n"
     ]
    }
   ],
   "source": [
    "csv_file_path = \"./result/results.csv\"\n",
    "\n",
    "with open(csv_file_path, mode=\"w\", newline=\"\") as file:\n",
    "    fieldnames = ['number', 'user', 'restaurant_name']\n",
    "    writer = csv.DictWriter(file, fieldnames=fieldnames)\n",
    "    writer.writeheader()\n",
    "    number = 1\n",
    "    for user, restaurant_indices in zip(test_users, results):\n",
    "        for idx in restaurant_indices:\n",
    "            restaurant_name = restaurant_set[idx]\n",
    "            writer.writerow({'number': number, 'user': user, 'restaurant_name': restaurant_name})\n",
    "            number += 1\n",
    "\n",
    "print(f\"\\nResults saved to: {csv_file_path}\")"
   ]
  },
  {
   "cell_type": "code",
   "execution_count": 19,
   "metadata": {},
   "outputs": [
    {
     "ename": "NameError",
     "evalue": "name 'restaurant_name' is not defined",
     "output_type": "error",
     "traceback": [
      "\u001b[1;31m---------------------------------------------------------------------------\u001b[0m",
      "\u001b[1;31mNameError\u001b[0m                                 Traceback (most recent call last)",
      "Cell \u001b[1;32mIn[19], line 1\u001b[0m\n\u001b[1;32m----> 1\u001b[0m \u001b[43mrestaurant_name\u001b[49m\n",
      "\u001b[1;31mNameError\u001b[0m: name 'restaurant_name' is not defined"
     ]
    }
   ],
   "source": [
    "restaurant_name = restaurant_set[idx]"
   ]
  },
  {
   "cell_type": "code",
   "execution_count": null,
   "metadata": {},
   "outputs": [],
   "source": []
  }
 ],
 "metadata": {
  "kernelspec": {
   "display_name": "Python 3",
   "language": "python",
   "name": "python3"
  },
  "language_info": {
   "codemirror_mode": {
    "name": "ipython",
    "version": 3
   },
   "file_extension": ".py",
   "mimetype": "text/x-python",
   "name": "python",
   "nbconvert_exporter": "python",
   "pygments_lexer": "ipython3",
   "version": "3.12.4"
  }
 },
 "nbformat": 4,
 "nbformat_minor": 2
}
