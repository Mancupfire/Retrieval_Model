{
  "nbformat": 4,
  "nbformat_minor": 0,
  "metadata": {
    "colab": {
      "provenance": [],
      "include_colab_link": true
    },
    "kernelspec": {
      "name": "python3",
      "display_name": "Python 3"
    },
    "language_info": {
      "name": "python"
    }
  },
  "cells": [
    {
      "cell_type": "markdown",
      "metadata": {
        "id": "view-in-github",
        "colab_type": "text"
      },
      "source": [
        "<a href=\"https://colab.research.google.com/github/Mancupfire/Retrieval_Model/blob/main/Retrieval_model.ipynb\" target=\"_parent\"><img src=\"https://colab.research.google.com/assets/colab-badge.svg\" alt=\"Open In Colab\"/></a>"
      ]
    },
    {
      "cell_type": "code",
      "source": [
        "!pip install torch_geometric\n"
      ],
      "metadata": {
        "colab": {
          "base_uri": "https://localhost:8080/"
        },
        "id": "Ia5JK2aYB2T9",
        "outputId": "7904b2e3-851d-48ab-8c69-ec757061b460"
      },
      "execution_count": null,
      "outputs": [
        {
          "output_type": "stream",
          "name": "stdout",
          "text": [
            "Collecting torch_geometric\n",
            "  Downloading torch_geometric-2.6.1-py3-none-any.whl.metadata (63 kB)\n",
            "\u001b[?25l     \u001b[90m━━━━━━━━━━━━━━━━━━━━━━━━━━━━━━━━━━━━━━━━\u001b[0m \u001b[32m0.0/63.1 kB\u001b[0m \u001b[31m?\u001b[0m eta \u001b[36m-:--:--\u001b[0m\r\u001b[2K     \u001b[90m━━━━━━━━━━━━━━━━━━━━━━━━━━━━━━━━━━━━━━━━\u001b[0m \u001b[32m63.1/63.1 kB\u001b[0m \u001b[31m4.8 MB/s\u001b[0m eta \u001b[36m0:00:00\u001b[0m\n",
            "\u001b[?25hRequirement already satisfied: aiohttp in /usr/local/lib/python3.10/dist-packages (from torch_geometric) (3.11.2)\n",
            "Requirement already satisfied: fsspec in /usr/local/lib/python3.10/dist-packages (from torch_geometric) (2024.10.0)\n",
            "Requirement already satisfied: jinja2 in /usr/local/lib/python3.10/dist-packages (from torch_geometric) (3.1.4)\n",
            "Requirement already satisfied: numpy in /usr/local/lib/python3.10/dist-packages (from torch_geometric) (1.26.4)\n",
            "Requirement already satisfied: psutil>=5.8.0 in /usr/local/lib/python3.10/dist-packages (from torch_geometric) (5.9.5)\n",
            "Requirement already satisfied: pyparsing in /usr/local/lib/python3.10/dist-packages (from torch_geometric) (3.2.0)\n",
            "Requirement already satisfied: requests in /usr/local/lib/python3.10/dist-packages (from torch_geometric) (2.32.3)\n",
            "Requirement already satisfied: tqdm in /usr/local/lib/python3.10/dist-packages (from torch_geometric) (4.66.6)\n",
            "Requirement already satisfied: aiohappyeyeballs>=2.3.0 in /usr/local/lib/python3.10/dist-packages (from aiohttp->torch_geometric) (2.4.3)\n",
            "Requirement already satisfied: aiosignal>=1.1.2 in /usr/local/lib/python3.10/dist-packages (from aiohttp->torch_geometric) (1.3.1)\n",
            "Requirement already satisfied: attrs>=17.3.0 in /usr/local/lib/python3.10/dist-packages (from aiohttp->torch_geometric) (24.2.0)\n",
            "Requirement already satisfied: frozenlist>=1.1.1 in /usr/local/lib/python3.10/dist-packages (from aiohttp->torch_geometric) (1.5.0)\n",
            "Requirement already satisfied: multidict<7.0,>=4.5 in /usr/local/lib/python3.10/dist-packages (from aiohttp->torch_geometric) (6.1.0)\n",
            "Requirement already satisfied: propcache>=0.2.0 in /usr/local/lib/python3.10/dist-packages (from aiohttp->torch_geometric) (0.2.0)\n",
            "Requirement already satisfied: yarl<2.0,>=1.17.0 in /usr/local/lib/python3.10/dist-packages (from aiohttp->torch_geometric) (1.17.2)\n",
            "Requirement already satisfied: async-timeout<6.0,>=4.0 in /usr/local/lib/python3.10/dist-packages (from aiohttp->torch_geometric) (4.0.3)\n",
            "Requirement already satisfied: MarkupSafe>=2.0 in /usr/local/lib/python3.10/dist-packages (from jinja2->torch_geometric) (3.0.2)\n",
            "Requirement already satisfied: charset-normalizer<4,>=2 in /usr/local/lib/python3.10/dist-packages (from requests->torch_geometric) (3.4.0)\n",
            "Requirement already satisfied: idna<4,>=2.5 in /usr/local/lib/python3.10/dist-packages (from requests->torch_geometric) (3.10)\n",
            "Requirement already satisfied: urllib3<3,>=1.21.1 in /usr/local/lib/python3.10/dist-packages (from requests->torch_geometric) (2.2.3)\n",
            "Requirement already satisfied: certifi>=2017.4.17 in /usr/local/lib/python3.10/dist-packages (from requests->torch_geometric) (2024.8.30)\n",
            "Requirement already satisfied: typing-extensions>=4.1.0 in /usr/local/lib/python3.10/dist-packages (from multidict<7.0,>=4.5->aiohttp->torch_geometric) (4.12.2)\n",
            "Downloading torch_geometric-2.6.1-py3-none-any.whl (1.1 MB)\n",
            "\u001b[?25l   \u001b[90m━━━━━━━━━━━━━━━━━━━━━━━━━━━━━━━━━━━━━━━━\u001b[0m \u001b[32m0.0/1.1 MB\u001b[0m \u001b[31m?\u001b[0m eta \u001b[36m-:--:--\u001b[0m\r\u001b[2K   \u001b[90m━━━━━━━━━━━━━━━━━━━━━━━━━━━━━━━━━━━━━━━━\u001b[0m \u001b[32m1.1/1.1 MB\u001b[0m \u001b[31m53.7 MB/s\u001b[0m eta \u001b[36m0:00:00\u001b[0m\n",
            "\u001b[?25hInstalling collected packages: torch_geometric\n",
            "Successfully installed torch_geometric-2.6.1\n"
          ]
        }
      ]
    },
    {
      "cell_type": "code",
      "execution_count": null,
      "metadata": {
        "id": "cgwwiDoEfVT3"
      },
      "outputs": [],
      "source": [
        "import json\n",
        "import numpy as np\n",
        "import torch\n",
        "from torch_geometric.data import Data"
      ]
    },
    {
      "cell_type": "code",
      "source": [
        "with open('edinburgh-keywords_train.json', 'r') as f:\n",
        "     train_data = json.load(f)\n",
        "\n",
        "keywords = list(train_data['np2count'].keys())"
      ],
      "metadata": {
        "id": "gb989aZLwE0Z"
      },
      "execution_count": null,
      "outputs": []
    },
    {
      "cell_type": "code",
      "source": [
        "# Loại bỏ những từ bị trùng\n",
        "keyword_set = set(keywords)"
      ],
      "metadata": {
        "id": "2ajAj-PdwExy"
      },
      "execution_count": null,
      "outputs": []
    },
    {
      "cell_type": "code",
      "source": [
        "def extract_users(info):\n",
        "    '''\n",
        "    input:\n",
        "        info: data['np2users']\n",
        "    output:\n",
        "        list_user, user2kw\n",
        "    '''\n",
        "    l_user, user2kw = [], []\n",
        "    for ii in info:\n",
        "        lus = info[ii]\n",
        "        for u in lus:\n",
        "            if u not in l_user:\n",
        "                l_user.append(u)\n",
        "                user2kw.append([])\n",
        "            idx = l_user.index(u)\n",
        "            user2kw[idx].append(ii)\n",
        "    return l_user, user2kw"
      ],
      "metadata": {
        "id": "fzQY5De1uBAz"
      },
      "execution_count": null,
      "outputs": []
    },
    {
      "cell_type": "code",
      "source": [
        "train_users, train_users2kw = extract_users(train_data['np2users'])\n",
        "test_users, test_users2kw = extract_users(test_data['np2users'])\n"
      ],
      "metadata": {
        "id": "-kq8zpYcvBLM"
      },
      "execution_count": null,
      "outputs": []
    },
    {
      "cell_type": "code",
      "source": [
        "# Danh sách các nhà hàng trong tập train\n",
        "restaurants = list(train_data['np2rests'])\n",
        "restaurant_set = set(restaurants)\n",
        "listres = []\n",
        "for kw in train_data['np2rests'].keys():\n",
        "      listres.extend(train_data['np2rests'][kw].keys())\n",
        "\n",
        "restaurant_set = set(listres)"
      ],
      "metadata": {
        "id": "NwSkvA5TwEvC"
      },
      "execution_count": null,
      "outputs": []
    },
    {
      "cell_type": "code",
      "source": [],
      "metadata": {
        "id": "9JgJDIKTgZGt"
      },
      "execution_count": null,
      "outputs": []
    },
    {
      "cell_type": "code",
      "source": [
        "listres.extend(train_data['np2rests'][kw].keys())"
      ],
      "metadata": {
        "id": "TgGolXFTn_O-"
      },
      "execution_count": null,
      "outputs": []
    },
    {
      "cell_type": "code",
      "source": [
        "# Tạo ma trận liên kết từ keywords và restaurant\n",
        "keyword_set = list(keyword_set)\n",
        "restaurant_set = list(restaurant_set)\n",
        "restaurants = len(listres)\n",
        "num_keywords = len(keyword_set)\n",
        "num_restaurants = len(restaurant_set)\n",
        "a = np.zeros((num_keywords, num_restaurants))\n",
        "\n",
        "for kw in train_data['np2rests'].keys():\n",
        "    for res in train_data['np2rests'][kw].keys():\n",
        "        idx_kw = keyword_set.index(kw)\n",
        "        idx_res = restaurant_set.index(res)\n",
        "        a[idx_kw][idx_res] = 1"
      ],
      "metadata": {
        "id": "W6skrvicwEly"
      },
      "execution_count": null,
      "outputs": []
    },
    {
      "cell_type": "code",
      "source": [
        "a.shape"
      ],
      "metadata": {
        "colab": {
          "base_uri": "https://localhost:8080/"
        },
        "id": "pK-TqdXcAnYK",
        "outputId": "5142032d-0aba-46ff-e939-5a17e321468f"
      },
      "execution_count": null,
      "outputs": [
        {
          "output_type": "execute_result",
          "data": {
            "text/plain": [
              "(9798, 937)"
            ]
          },
          "metadata": {},
          "execution_count": 21
        }
      ]
    },
    {
      "cell_type": "code",
      "source": [
        "# Ma trận liên kết giữa keywords và restaurants\n",
        "with open('edinburgh-keywords_test.json', 'r') as r:\n",
        "    test_data = json.load(r)\n",
        "\n",
        "user_keywords = list(test_data['np2reviews'].keys())\n",
        "user_keywords_list = list(user_keywords)\n"
      ],
      "metadata": {
        "id": "Zhwrpwa49_MO"
      },
      "execution_count": null,
      "outputs": []
    },
    {
      "cell_type": "code",
      "source": [
        "test_users2kw[0][:10]"
      ],
      "metadata": {
        "colab": {
          "base_uri": "https://localhost:8080/"
        },
        "id": "PUv_5tpaQOf9",
        "outputId": "aed59b06-f9dc-4b19-c039-dfc6c15e370b"
      },
      "execution_count": null,
      "outputs": [
        {
          "output_type": "execute_result",
          "data": {
            "text/plain": [
              "['flatmates',\n",
              " 'food',\n",
              " 'while',\n",
              " 'menu',\n",
              " 'door',\n",
              " 'fresher week',\n",
              " 'hall',\n",
              " 'usual range',\n",
              " 'chinese classic dishes',\n",
              " 'crispy chilli shredded beef']"
            ]
          },
          "metadata": {},
          "execution_count": 14
        }
      ]
    },
    {
      "cell_type": "code",
      "source": [
        "for kw in test_users2kw:\n",
        "    t  = np.zeros((1, num_keywords))\n",
        "    keywords = kw[:10]\n",
        "    for keys in keywords:\n",
        "        if keys in keyword_set:\n",
        "           idx_kw = keyword_set.index(keys)\n",
        "           t[0][idx_kw] = 1\n",
        "    R = np.dot(t, a)\n",
        "    result = np.argsort(R[0])[::-1][:10]\n"
      ],
      "metadata": {
        "id": "enXV8QM_RWck"
      },
      "execution_count": null,
      "outputs": []
    },
    {
      "cell_type": "code",
      "source": [
        "result2"
      ],
      "metadata": {
        "id": "959XVzrXqoXg",
        "colab": {
          "base_uri": "https://localhost:8080/"
        },
        "outputId": "4c1851dd-a2ac-4df8-e0ad-6cdf7b7816d0"
      },
      "execution_count": null,
      "outputs": [
        {
          "output_type": "execute_result",
          "data": {
            "text/plain": [
              "array([  0, 529, 531, 532, 533, 534, 535, 537, 540, 543])"
            ]
          },
          "metadata": {},
          "execution_count": 23
        }
      ]
    },
    {
      "cell_type": "code",
      "source": [],
      "metadata": {
        "id": "UFfsuVfTBMxn"
      },
      "execution_count": null,
      "outputs": []
    }
  ]
}